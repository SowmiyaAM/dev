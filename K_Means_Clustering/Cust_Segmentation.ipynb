{
 "cells": [
  {
   "cell_type": "code",
   "execution_count": 1,
   "metadata": {},
   "outputs": [],
   "source": [
    "import pandas as pd\n",
    "import plotly.express as px"
   ]
  },
  {
   "cell_type": "code",
   "execution_count": 14,
   "metadata": {},
   "outputs": [],
   "source": [
    "from sklearn.cluster import KMeans"
   ]
  },
  {
   "cell_type": "code",
   "execution_count": 3,
   "metadata": {},
   "outputs": [
    {
     "name": "stdout",
     "output_type": "stream",
     "text": [
      "Collecting openpyxl\n",
      "  Downloading openpyxl-3.1.5-py2.py3-none-any.whl.metadata (2.5 kB)\n",
      "Collecting et-xmlfile (from openpyxl)\n",
      "  Downloading et_xmlfile-1.1.0-py3-none-any.whl.metadata (1.8 kB)\n",
      "Downloading openpyxl-3.1.5-py2.py3-none-any.whl (250 kB)\n",
      "\u001b[2K   \u001b[90m━━━━━━━━━━━━━━━━━━━━━━━━━━━━━━━━━━━━━━━━\u001b[0m \u001b[32m250.9/250.9 kB\u001b[0m \u001b[31m1.3 MB/s\u001b[0m eta \u001b[36m0:00:00\u001b[0m00:01\u001b[0m00:01\u001b[0mm\n",
      "\u001b[?25hDownloading et_xmlfile-1.1.0-py3-none-any.whl (4.7 kB)\n",
      "Installing collected packages: et-xmlfile, openpyxl\n",
      "Successfully installed et-xmlfile-1.1.0 openpyxl-3.1.5\n",
      "\n",
      "\u001b[1m[\u001b[0m\u001b[34;49mnotice\u001b[0m\u001b[1;39;49m]\u001b[0m\u001b[39;49m A new release of pip is available: \u001b[0m\u001b[31;49m24.0\u001b[0m\u001b[39;49m -> \u001b[0m\u001b[32;49m24.1.2\u001b[0m\n",
      "\u001b[1m[\u001b[0m\u001b[34;49mnotice\u001b[0m\u001b[1;39;49m]\u001b[0m\u001b[39;49m To update, run: \u001b[0m\u001b[32;49mpython3 -m pip install --upgrade pip\u001b[0m\n"
     ]
    }
   ],
   "source": [
    "!pip install openpyxl"
   ]
  },
  {
   "cell_type": "code",
   "execution_count": 4,
   "metadata": {},
   "outputs": [],
   "source": [
    "excel_file_path = \"/workspaces/dev/K_Means_Clustering/cust_data.xlsx\"\n",
    "cust_data = pd.read_excel(excel_file_path,sheet_name=\"in\")"
   ]
  },
  {
   "cell_type": "code",
   "execution_count": 7,
   "metadata": {},
   "outputs": [
    {
     "data": {
      "text/plain": [
       "(30000, 38)"
      ]
     },
     "execution_count": 7,
     "metadata": {},
     "output_type": "execute_result"
    }
   ],
   "source": [
    "cust_data.shape"
   ]
  },
  {
   "cell_type": "code",
   "execution_count": 8,
   "metadata": {},
   "outputs": [
    {
     "data": {
      "text/html": [
       "<div>\n",
       "<style scoped>\n",
       "    .dataframe tbody tr th:only-of-type {\n",
       "        vertical-align: middle;\n",
       "    }\n",
       "\n",
       "    .dataframe tbody tr th {\n",
       "        vertical-align: top;\n",
       "    }\n",
       "\n",
       "    .dataframe thead th {\n",
       "        text-align: right;\n",
       "    }\n",
       "</style>\n",
       "<table border=\"1\" class=\"dataframe\">\n",
       "  <thead>\n",
       "    <tr style=\"text-align: right;\">\n",
       "      <th></th>\n",
       "      <th>Cust_ID</th>\n",
       "      <th>Orders</th>\n",
       "      <th>Jordan</th>\n",
       "      <th>Gatorade</th>\n",
       "      <th>Samsung</th>\n",
       "      <th>Asus</th>\n",
       "      <th>Udis</th>\n",
       "      <th>Mondelez International</th>\n",
       "      <th>Wrangler</th>\n",
       "      <th>Vans</th>\n",
       "      <th>...</th>\n",
       "      <th>LG</th>\n",
       "      <th>Dior</th>\n",
       "      <th>Scabal</th>\n",
       "      <th>Tommy Hilfiger</th>\n",
       "      <th>Hollister</th>\n",
       "      <th>Forever 21</th>\n",
       "      <th>Colavita</th>\n",
       "      <th>Microsoft</th>\n",
       "      <th>Jiffy mix</th>\n",
       "      <th>Kraft</th>\n",
       "    </tr>\n",
       "  </thead>\n",
       "  <tbody>\n",
       "    <tr>\n",
       "      <th>count</th>\n",
       "      <td>30000.000000</td>\n",
       "      <td>30000.000000</td>\n",
       "      <td>30000.000000</td>\n",
       "      <td>30000.000000</td>\n",
       "      <td>30000.000000</td>\n",
       "      <td>30000.000000</td>\n",
       "      <td>30000.000000</td>\n",
       "      <td>30000.000000</td>\n",
       "      <td>30000.000000</td>\n",
       "      <td>30000.000000</td>\n",
       "      <td>...</td>\n",
       "      <td>30000.000000</td>\n",
       "      <td>30000.000000</td>\n",
       "      <td>30000.000000</td>\n",
       "      <td>30000.000000</td>\n",
       "      <td>30000.000000</td>\n",
       "      <td>30000.000000</td>\n",
       "      <td>30000.000000</td>\n",
       "      <td>30000.000000</td>\n",
       "      <td>30000.000000</td>\n",
       "      <td>30000.000000</td>\n",
       "    </tr>\n",
       "    <tr>\n",
       "      <th>mean</th>\n",
       "      <td>15000.500000</td>\n",
       "      <td>4.169800</td>\n",
       "      <td>0.267433</td>\n",
       "      <td>0.252333</td>\n",
       "      <td>0.222933</td>\n",
       "      <td>0.161333</td>\n",
       "      <td>0.143533</td>\n",
       "      <td>0.139767</td>\n",
       "      <td>0.106933</td>\n",
       "      <td>0.111433</td>\n",
       "      <td>...</td>\n",
       "      <td>0.102533</td>\n",
       "      <td>0.271133</td>\n",
       "      <td>0.370067</td>\n",
       "      <td>0.158967</td>\n",
       "      <td>0.077667</td>\n",
       "      <td>0.057333</td>\n",
       "      <td>0.192200</td>\n",
       "      <td>0.116367</td>\n",
       "      <td>0.088033</td>\n",
       "      <td>0.070900</td>\n",
       "    </tr>\n",
       "    <tr>\n",
       "      <th>std</th>\n",
       "      <td>8660.398374</td>\n",
       "      <td>3.590311</td>\n",
       "      <td>0.804778</td>\n",
       "      <td>0.705368</td>\n",
       "      <td>0.917494</td>\n",
       "      <td>0.740038</td>\n",
       "      <td>0.641258</td>\n",
       "      <td>0.525840</td>\n",
       "      <td>0.515921</td>\n",
       "      <td>0.547990</td>\n",
       "      <td>...</td>\n",
       "      <td>0.486376</td>\n",
       "      <td>0.714682</td>\n",
       "      <td>0.758465</td>\n",
       "      <td>0.510527</td>\n",
       "      <td>0.383370</td>\n",
       "      <td>0.300082</td>\n",
       "      <td>0.641306</td>\n",
       "      <td>0.446578</td>\n",
       "      <td>0.399277</td>\n",
       "      <td>0.387915</td>\n",
       "    </tr>\n",
       "    <tr>\n",
       "      <th>min</th>\n",
       "      <td>1.000000</td>\n",
       "      <td>0.000000</td>\n",
       "      <td>0.000000</td>\n",
       "      <td>0.000000</td>\n",
       "      <td>0.000000</td>\n",
       "      <td>0.000000</td>\n",
       "      <td>0.000000</td>\n",
       "      <td>0.000000</td>\n",
       "      <td>0.000000</td>\n",
       "      <td>0.000000</td>\n",
       "      <td>...</td>\n",
       "      <td>0.000000</td>\n",
       "      <td>0.000000</td>\n",
       "      <td>0.000000</td>\n",
       "      <td>0.000000</td>\n",
       "      <td>0.000000</td>\n",
       "      <td>0.000000</td>\n",
       "      <td>0.000000</td>\n",
       "      <td>0.000000</td>\n",
       "      <td>0.000000</td>\n",
       "      <td>0.000000</td>\n",
       "    </tr>\n",
       "    <tr>\n",
       "      <th>25%</th>\n",
       "      <td>7500.750000</td>\n",
       "      <td>1.000000</td>\n",
       "      <td>0.000000</td>\n",
       "      <td>0.000000</td>\n",
       "      <td>0.000000</td>\n",
       "      <td>0.000000</td>\n",
       "      <td>0.000000</td>\n",
       "      <td>0.000000</td>\n",
       "      <td>0.000000</td>\n",
       "      <td>0.000000</td>\n",
       "      <td>...</td>\n",
       "      <td>0.000000</td>\n",
       "      <td>0.000000</td>\n",
       "      <td>0.000000</td>\n",
       "      <td>0.000000</td>\n",
       "      <td>0.000000</td>\n",
       "      <td>0.000000</td>\n",
       "      <td>0.000000</td>\n",
       "      <td>0.000000</td>\n",
       "      <td>0.000000</td>\n",
       "      <td>0.000000</td>\n",
       "    </tr>\n",
       "    <tr>\n",
       "      <th>50%</th>\n",
       "      <td>15000.500000</td>\n",
       "      <td>4.000000</td>\n",
       "      <td>0.000000</td>\n",
       "      <td>0.000000</td>\n",
       "      <td>0.000000</td>\n",
       "      <td>0.000000</td>\n",
       "      <td>0.000000</td>\n",
       "      <td>0.000000</td>\n",
       "      <td>0.000000</td>\n",
       "      <td>0.000000</td>\n",
       "      <td>...</td>\n",
       "      <td>0.000000</td>\n",
       "      <td>0.000000</td>\n",
       "      <td>0.000000</td>\n",
       "      <td>0.000000</td>\n",
       "      <td>0.000000</td>\n",
       "      <td>0.000000</td>\n",
       "      <td>0.000000</td>\n",
       "      <td>0.000000</td>\n",
       "      <td>0.000000</td>\n",
       "      <td>0.000000</td>\n",
       "    </tr>\n",
       "    <tr>\n",
       "      <th>75%</th>\n",
       "      <td>22500.250000</td>\n",
       "      <td>7.000000</td>\n",
       "      <td>0.000000</td>\n",
       "      <td>0.000000</td>\n",
       "      <td>0.000000</td>\n",
       "      <td>0.000000</td>\n",
       "      <td>0.000000</td>\n",
       "      <td>0.000000</td>\n",
       "      <td>0.000000</td>\n",
       "      <td>0.000000</td>\n",
       "      <td>...</td>\n",
       "      <td>0.000000</td>\n",
       "      <td>0.000000</td>\n",
       "      <td>1.000000</td>\n",
       "      <td>0.000000</td>\n",
       "      <td>0.000000</td>\n",
       "      <td>0.000000</td>\n",
       "      <td>0.000000</td>\n",
       "      <td>0.000000</td>\n",
       "      <td>0.000000</td>\n",
       "      <td>0.000000</td>\n",
       "    </tr>\n",
       "    <tr>\n",
       "      <th>max</th>\n",
       "      <td>30000.000000</td>\n",
       "      <td>12.000000</td>\n",
       "      <td>24.000000</td>\n",
       "      <td>15.000000</td>\n",
       "      <td>27.000000</td>\n",
       "      <td>17.000000</td>\n",
       "      <td>14.000000</td>\n",
       "      <td>31.000000</td>\n",
       "      <td>9.000000</td>\n",
       "      <td>16.000000</td>\n",
       "      <td>...</td>\n",
       "      <td>19.000000</td>\n",
       "      <td>12.000000</td>\n",
       "      <td>11.000000</td>\n",
       "      <td>8.000000</td>\n",
       "      <td>9.000000</td>\n",
       "      <td>8.000000</td>\n",
       "      <td>22.000000</td>\n",
       "      <td>14.000000</td>\n",
       "      <td>8.000000</td>\n",
       "      <td>16.000000</td>\n",
       "    </tr>\n",
       "  </tbody>\n",
       "</table>\n",
       "<p>8 rows × 37 columns</p>\n",
       "</div>"
      ],
      "text/plain": [
       "            Cust_ID        Orders        Jordan      Gatorade       Samsung  \\\n",
       "count  30000.000000  30000.000000  30000.000000  30000.000000  30000.000000   \n",
       "mean   15000.500000      4.169800      0.267433      0.252333      0.222933   \n",
       "std     8660.398374      3.590311      0.804778      0.705368      0.917494   \n",
       "min        1.000000      0.000000      0.000000      0.000000      0.000000   \n",
       "25%     7500.750000      1.000000      0.000000      0.000000      0.000000   \n",
       "50%    15000.500000      4.000000      0.000000      0.000000      0.000000   \n",
       "75%    22500.250000      7.000000      0.000000      0.000000      0.000000   \n",
       "max    30000.000000     12.000000     24.000000     15.000000     27.000000   \n",
       "\n",
       "               Asus          Udis  Mondelez International      Wrangler  \\\n",
       "count  30000.000000  30000.000000            30000.000000  30000.000000   \n",
       "mean       0.161333      0.143533                0.139767      0.106933   \n",
       "std        0.740038      0.641258                0.525840      0.515921   \n",
       "min        0.000000      0.000000                0.000000      0.000000   \n",
       "25%        0.000000      0.000000                0.000000      0.000000   \n",
       "50%        0.000000      0.000000                0.000000      0.000000   \n",
       "75%        0.000000      0.000000                0.000000      0.000000   \n",
       "max       17.000000     14.000000               31.000000      9.000000   \n",
       "\n",
       "               Vans  ...            LG          Dior        Scabal  \\\n",
       "count  30000.000000  ...  30000.000000  30000.000000  30000.000000   \n",
       "mean       0.111433  ...      0.102533      0.271133      0.370067   \n",
       "std        0.547990  ...      0.486376      0.714682      0.758465   \n",
       "min        0.000000  ...      0.000000      0.000000      0.000000   \n",
       "25%        0.000000  ...      0.000000      0.000000      0.000000   \n",
       "50%        0.000000  ...      0.000000      0.000000      0.000000   \n",
       "75%        0.000000  ...      0.000000      0.000000      1.000000   \n",
       "max       16.000000  ...     19.000000     12.000000     11.000000   \n",
       "\n",
       "       Tommy Hilfiger     Hollister    Forever 21      Colavita     Microsoft  \\\n",
       "count    30000.000000  30000.000000  30000.000000  30000.000000  30000.000000   \n",
       "mean         0.158967      0.077667      0.057333      0.192200      0.116367   \n",
       "std          0.510527      0.383370      0.300082      0.641306      0.446578   \n",
       "min          0.000000      0.000000      0.000000      0.000000      0.000000   \n",
       "25%          0.000000      0.000000      0.000000      0.000000      0.000000   \n",
       "50%          0.000000      0.000000      0.000000      0.000000      0.000000   \n",
       "75%          0.000000      0.000000      0.000000      0.000000      0.000000   \n",
       "max          8.000000      9.000000      8.000000     22.000000     14.000000   \n",
       "\n",
       "          Jiffy mix         Kraft  \n",
       "count  30000.000000  30000.000000  \n",
       "mean       0.088033      0.070900  \n",
       "std        0.399277      0.387915  \n",
       "min        0.000000      0.000000  \n",
       "25%        0.000000      0.000000  \n",
       "50%        0.000000      0.000000  \n",
       "75%        0.000000      0.000000  \n",
       "max        8.000000     16.000000  \n",
       "\n",
       "[8 rows x 37 columns]"
      ]
     },
     "execution_count": 8,
     "metadata": {},
     "output_type": "execute_result"
    }
   ],
   "source": [
    "cust_data.describe()"
   ]
  },
  {
   "cell_type": "code",
   "execution_count": 9,
   "metadata": {},
   "outputs": [
    {
     "data": {
      "text/plain": [
       "<Axes: xlabel='Gender'>"
      ]
     },
     "execution_count": 9,
     "metadata": {},
     "output_type": "execute_result"
    },
    {
     "data": {
      "image/png": "[encoded data removed]",
      "text/plain": [
       "<Figure size 640x480 with 1 Axes>"
      ]
     },
     "metadata": {},
     "output_type": "display_data"
    }
   ],
   "source": [
    "cust_data[\"Gender\"].value_counts().plot(kind='bar')"
   ]
  },
  {
   "cell_type": "code",
   "execution_count": 11,
   "metadata": {},
   "outputs": [],
   "source": [
    "# Convert the Categorical column - Gender - into numeric values\n",
    "gender_dict = {'M':1,'F':2}\n",
    "cust_data[\"Gender\"] = cust_data[\"Gender\"].map(gender_dict)\n",
    "cust_data[\"Gender\"] = cust_data[\"Gender\"].fillna(0)\n",
    "cust_data[\"Gender\"] = cust_data[\"Gender\"].astype(int)"
   ]
  },
  {
   "cell_type": "code",
   "execution_count": 13,
   "metadata": {},
   "outputs": [
    {
     "data": {
      "application/vnd.plotly.v1+json": {
       "config": {
        "plotlyServerURL": "https://plot.ly"
       },
       "data": [
        {
         "coloraxis": "coloraxis",
         "hovertemplate": "x: %{x}<br>y: %{y}<br>color: %{z}<extra></extra>",
         "name": "0",
         "type": "heatmap",
         "x": [
          "Cust_ID",
          "Gender",
          "Orders",
          "Jordan",
          "Gatorade",
          "Samsung",
          "Asus",
          "Udis",
          "Mondelez International",
          "Wrangler",
          "Vans",
          "Fila",
          "Brooks",
          "H&M",
          "Dairy Queen",
          "Fendi",
          "Hewlett Packard",
          "Pladis",
          "Asics",
          "Siemens",
          "J.M. Smucker",
          "Pop Chips",
          "Juniper",
          "Huawei",
          "Compaq",
          "IBM",
          "Burberry",
          "Mi",
          "LG",
          "Dior",
          "Scabal",
          "Tommy Hilfiger",
          "Hollister",
          "Forever 21",
          "Colavita",
          "Microsoft",
          "Jiffy mix",
          "Kraft"
         ],
         "xaxis": "x",
         "y": [
          "Cust_ID",
          "Gender",
          "Orders",
          "Jordan",
          "Gatorade",
          "Samsung",
          "Asus",
          "Udis",
          "Mondelez International",
          "Wrangler",
          "Vans",
          "Fila",
          "Brooks",
          "H&M",
          "Dairy Queen",
          "Fendi",
          "Hewlett Packard",
          "Pladis",
          "Asics",
          "Siemens",
          "J.M. Smucker",
          "Pop Chips",
          "Juniper",
          "Huawei",
          "Compaq",
          "IBM",
          "Burberry",
          "Mi",
          "LG",
          "Dior",
          "Scabal",
          "Tommy Hilfiger",
          "Hollister",
          "Forever 21",
          "Colavita",
          "Microsoft",
          "Jiffy mix",
          "Kraft"
         ],
         "yaxis": "y",
         "z": [
          [
           1,
           0.044437240341774445,
           0.02913222427347274,
           0.06427695017081926,
           0.021821418757368594,
           0.057205961011690905,
           0.04919143898071447,
           0.06067719222118367,
           0.03555979760623909,
           0.04304278532386802,
           0.002158070981271044,
           -0.0004497886531845801,
           0.03957430652487597,
           0.02342635911809623,
           -0.005784677209342095,
           0.04405287238298116,
           0.048083103644023836,
           0.012789991078647164,
           0.0007151641919278923,
           -0.039672891498651115,
           0.011654498677240934,
           0.0466230583883804,
           -0.015515799521346706,
           0.018492556345243605,
           -0.009157683517325588,
           -0.02658863198359859,
           0.061116568173391866,
           -0.03183866361761928,
           0.029692523233829492,
           0.06248946287062163,
           0.057355501795335134,
           0.016463152877159826,
           0.08479277688284256,
           0.049231475623502816,
           0.002060999875297881,
           -0.005613570976448685,
           -0.019145193900534024,
           0.022508140857355283
          ],
          [
           0.044437240341774445,
           1,
           0.04916291221794199,
           0.017030005024285092,
           -0.03344629566225854,
           0.017896050637079698,
           0.08317158492318574,
           0.06362799323337444,
           0.03949522327610009,
           0.061492119360556895,
           -0.06814652029116365,
           -0.00960525440488125,
           0.003887159704350916,
           0.10566773865658215,
           0.028807459398499664,
           0.04879043175267243,
           0.02905938427659258,
           0.03877625666121272,
           0.012709653837235891,
           -0.015219191086464716,
           0.04704671435197421,
           0.027085319807067944,
           0.025491672394651763,
           0.03549095776303025,
           -0.007289598454478737,
           -0.02023877773996743,
           0.08908108466863575,
           0.050017494612016794,
           0.03219040777018964,
           0.050795558114847206,
           0.131838859278728,
           0.045861617151319235,
           0.02492219622469262,
           0.027687233187355324,
           0.006713000088737597,
           0.033382232229966745,
           0.026874826410927623,
           0.005430478895835646
          ],
          [
           0.02913222427347274,
           0.04916291221794199,
           1,
           0.016090302115645855,
           0.034310097949058295,
           0.017884930044747123,
           0.015584303969947266,
           0.009017905690918442,
           0.008740529889529967,
           0.003856231899378067,
           0.006342736524311423,
           -0.00962692704058636,
           0.01538948334272586,
           0.03083317630646359,
           -0.00270470966370874,
           0.017076961448508374,
           0.006867172548282764,
           -0.0006017003970389356,
           0.022064009368572397,
           0.007842545991397776,
           0.030807495374633086,
           0.01877407617575466,
           -0.0027410700386397337,
           0.008030906262186194,
           0.0027654668614397453,
           -0.007647337834145122,
           0.015813399858773353,
           0.010369113673997656,
           -0.006381632593823678,
           0.009026874106711599,
           0.020049685823873137,
           0.003550380042365407,
           0.0016799229883645466,
           -0.0034360796930379893,
           0.007454989755184092,
           0.015306506861470124,
           0.011267637194100108,
           -0.007160355548674097
          ],
          [
           0.06427695017081926,
           0.017030005024285092,
           0.016090302115645855,
           1,
           0.17725423021639328,
           0.07125781666328246,
           0.1237307421342451,
           0.13567284182449912,
           0.02194954962680859,
           0.040710404411280446,
           0.11579642381713182,
           0.03161129204796136,
           0.16547142801299003,
           0.03830235336253926,
           0.043857288882971274,
           0.030369336522929006,
           0.008799647010686884,
           0.06205010244474374,
           0.00981615684106897,
           -0.01108245928579107,
           0.05402485729506045,
           0.08146195677737693,
           0.02570807127721403,
           0.051468481690684055,
           0.007494876083817297,
           0.0019626050417318134,
           0.09649162494219657,
           0.022963418590475744,
           0.07020530953523872,
           0.06118481433973301,
           0.06258192615259978,
           0.06373900060926262,
           0.026349684958030344,
           0.024709601451266987,
           0.015564386316775035,
           0.01580389972342165,
           0.021651256668298705,
           0.01891771943751168
          ],
          [
           0.021821418757368594,
           -0.03344629566225854,
           0.034310097949058295,
           0.17725423021639328,
           1,
           0.06389014450672954,
           0.04621529478569729,
           0.05817957350223709,
           0.03127236879756367,
           0.0881661139583211,
           0.17062000233199112,
           0.026349908871138573,
           0.1543448348512492,
           0.06679396458971373,
           0.05553189631733163,
           0.029120344249513597,
           0.01667950450623014,
           0.06274925836587726,
           0.0429117184488994,
           0.006296489555285005,
           0.06077474442201075,
           0.08754520335277288,
           0.03095615558120981,
           0.042280600811849305,
           0.008772674205258527,
           -0.009289506501223857,
           0.10221605132043023,
           0.03310270925494346,
           0.066442927277204,
           0.05657113729457325,
           0.045957841913186206,
           0.058189947950053875,
           0.05030212998804136,
           0.03149476145737544,
           0.018278664692730096,
           0.016625238607864887,
           0.0386547410309991,
           0.0185525366213533
          ],
          [
           0.057205961011690905,
           0.017896050637079698,
           0.017884930044747123,
           0.07125781666328246,
           0.06389014450672954,
           1,
           0.01227384007925538,
           0.02878476976168169,
           0.03580697185686448,
           0.014565327701289875,
           0.029154628865539208,
           0.024846730425836037,
           0.08933392861926383,
           0.0314441790812659,
           0.014085526835370397,
           0.015094882693241257,
           0.01198762961257867,
           0.025421502203869344,
           0.0045461675879921205,
           -0.011740567432152535,
           0.02636454770543647,
           0.04877238254067276,
           0.0016211650313574862,
           0.02481971639497675,
           0.0043583344481302735,
           -0.005466538257317871,
           0.047852415239697965,
           0.004059876228000673,
           0.05858364255962667,
           0.01736886922082777,
           0.0465605149907635,
           0.015502094489741946,
           0.02156639577497141,
           0.016169962560665087,
           0.005584107856134688,
           0.0036398692146957677,
           0.00930265771314433,
           0.006633060515547509
          ],
          [
           0.04919143898071447,
           0.08317158492318574,
           0.015584303969947266,
           0.1237307421342451,
           0.04621529478569729,
           0.01227384007925538,
           1,
           0.11458816307892238,
           0.018119908154902904,
           0.026667719897272218,
           0.04699012578285035,
           -0.0047663779598666285,
           0.11438436035168006,
           0.02534887018620241,
           0.028588792888842827,
           0.00657957862975417,
           0.0064997531672477855,
           0.030215622609842254,
           0.010338527329834733,
           -0.0002184203590269974,
           0.023046187915090055,
           0.022715631766103757,
           0.017840452243110455,
           0.03346794699598855,
           0.0058919145646911236,
           -0.007445966273654058,
           0.04727590757388699,
           0.016903828183834117,
           0.02572192401835613,
           0.028911383193802775,
           0.04316824887912431,
           0.039139281093792694,
           0.01728278117428253,
           0.01418605261121732,
           0.009605229894347969,
           0.01974793626247162,
           0.008000652157434942,
           0.007529603413935794
          ],
          [
           0.06067719222118367,
           0.06362799323337444,
           0.009017905690918442,
           0.13567284182449912,
           0.05817957350223709,
           0.02878476976168169,
           0.11458816307892238,
           1,
           0.040251014294659715,
           0.0231283914171326,
           0.02069565817733062,
           0.02171734138475032,
           0.08985032903123298,
           0.03718691281385115,
           0.013805871239984663,
           0.01177200961084629,
           0.01429303449639132,
           0.022154686808473746,
           -0.008444435760051642,
           -0.014266960326481054,
           0.013707804187851282,
           0.020427040157512944,
           0.014117585944134687,
           0.024392518298130914,
           0.002921869404044176,
           -0.0030757230578392926,
           0.040914000150524786,
           0.013516047804381077,
           0.030405883831498677,
           0.029567045803987734,
           0.06809094646478915,
           0.023367065031483114,
           0.032484001584565804,
           0.03535994956850387,
           0.0004366427078354236,
           0.012679173513126451,
           0.004807810986002497,
           0.006794710368319373
          ],
          [
           0.03555979760623909,
           0.03949522327610009,
           0.008740529889529967,
           0.02194954962680859,
           0.03127236879756367,
           0.03580697185686448,
           0.018119908154902904,
           0.040251014294659715,
           1,
           0.021211391557087535,
           0.020795066555046315,
           0.026681151981930218,
           0.03919969257473861,
           0.04300126023148435,
           0.022946828506632988,
           0.001656693042872936,
           0.012106353890310662,
           0.05377179621994594,
           0.018302507807486865,
           -0.0027215354825443254,
           0.05932234681471192,
           0.031039966507400197,
           0.019580483001678393,
           0.02131349158888259,
           0.002440972256141925,
           0.00047070026022852097,
           0.06531842015561962,
           0.0111504166446658,
           0.03689548403258698,
           0.03478287671143654,
           0.10065657865454863,
           0.05630571212079827,
           0.036269881655234384,
           0.04491232133959925,
           0.014343596183401905,
           0.013070182257489437,
           0.025065823746410948,
           0.019727344057420687
          ],
          [
           0.04304278532386802,
           0.061492119360556895,
           0.003856231899378067,
           0.040710404411280446,
           0.0881661139583211,
           0.014565327701289875,
           0.026667719897272218,
           0.0231283914171326,
           0.021211391557087535,
           1,
           0.028594918816119034,
           -0.0022373092351252095,
           0.021860666780809616,
           0.07032985408590359,
           0.03097796693228106,
           0.024073209092089938,
           0.03409762491479823,
           0.04060877012587676,
           -0.0021446529695136546,
           -0.01071851674283185,
           0.020302439692775624,
           0.04352047007968442,
           0.01509825509416471,
           0.030263883080616123,
           -0.0008653052965750376,
           -0.006730266095054316,
           0.0746656218977512,
           0.024923534719079193,
           0.07958259356097036,
           0.054262089198482355,
           0.0999949963073524,
           0.045565467633159315,
           0.0751408416932004,
           0.06697842856620662,
           0.006188309811076355,
           0.00820281898639859,
           0.015953823068233487,
           0.014749448850253675
          ],
          [
           0.002158070981271044,
           -0.06814652029116365,
           0.006342736524311423,
           0.11579642381713182,
           0.17062000233199112,
           0.029154628865539208,
           0.04699012578285035,
           0.02069565817733062,
           0.020795066555046315,
           0.028594918816119034,
           1,
           0.0027310643199383805,
           0.1221742390162747,
           0.024992360746537646,
           0.031384108970026484,
           0.012767820277529226,
           0.0027600099774632613,
           0.0320700838923663,
           -0.000852261621942227,
           -0.00856296646092731,
           0.03054151216570394,
           0.08562646545129121,
           0.010212712328558068,
           0.028003030962317942,
           0.0157735673669133,
           -0.003648918419971552,
           0.058406288248625836,
           -0.009476451233122877,
           0.07319413124862457,
           0.014776137258436869,
           -0.01196075115894397,
           0.021992435584395006,
           0.007038777313886524,
           0.0025003932717775033,
           0.00004509361348341819,
           -0.002453736246723593,
           0.008639023323449548,
           0.013326234740839915
          ],
          [
           -0.0004497886531845801,
           -0.00960525440488125,
           -0.00962692704058636,
           0.03161129204796136,
           0.026349908871138573,
           0.024846730425836037,
           -0.0047663779598666285,
           0.02171734138475032,
           0.026681151981930218,
           -0.0022373092351252095,
           0.0027310643199383805,
           1,
           0.04692955112104725,
           0.010780432856331212,
           0.007973265700080742,
           -0.0006004829226388825,
           -0.004208287983006666,
           0.017111844155596124,
           0.03064501017204512,
           -0.003689622904388729,
           0.03171821086357638,
           0.0259743880335538,
           0.009152598200828269,
           0.02375662801950122,
           0.0010627076778419336,
           -0.0043630350280567725,
           0.02513817258127961,
           0.006528803494908732,
           0.019730394284104207,
           0.0010735039860335185,
           0.0213677167030801,
           0.014916456859471176,
           0.016578962175635682,
           0.032151735668372636,
           0.0015115218462881405,
           0.006447221508821205,
           0.003932828641830953,
           0.005414464425303271
          ],
          [
           0.03957430652487597,
           0.003887159704350916,
           0.01538948334272586,
           0.16547142801299003,
           0.1543448348512492,
           0.08933392861926383,
           0.11438436035168006,
           0.08985032903123298,
           0.03919969257473861,
           0.021860666780809616,
           0.1221742390162747,
           0.04692955112104725,
           1,
           0.023054384864491403,
           0.0850542923126061,
           0.02917359125631654,
           0.007570450658432022,
           0.1214609841339135,
           0.028049598423214625,
           -0.010454841390710559,
           0.12221347245235123,
           0.09932556786457397,
           0.03970278053198326,
           0.026712910010140346,
           0.0038708810488996396,
           -0.0014409453871008788,
           0.1682920791221839,
           0.01800349012953127,
           0.05321881779929901,
           0.03059706005766082,
           0.027999353021179535,
           0.07366591080317197,
           0.03422284471111337,
           0.05232042125185033,
           0.051175293961009595,
           0.03354538906020805,
           0.06110045607914882,
           0.0869639583689395
          ],
          [
           0.02342635911809623,
           0.10566773865658215,
           0.03083317630646359,
           0.03830235336253926,
           0.06679396458971373,
           0.0314441790812659,
           0.02534887018620241,
           0.03718691281385115,
           0.04300126023148435,
           0.07032985408590359,
           0.024992360746537646,
           0.010780432856331212,
           0.023054384864491403,
           1,
           0.07797344567606636,
           0.13555605255598732,
           0.0646772137207064,
           0.09431777672911149,
           0.029978571873796322,
           -0.008316990582119549,
           0.07796517579073102,
           0.0905810365000068,
           0.041059008983645034,
           0.04966329570678958,
           -0.0018216590935259246,
           -0.010883987210361285,
           0.18672977675198504,
           0.09059424911981591,
           0.08973420078317346,
           0.13874062781461713,
           0.14911914903505474,
           0.12254461528849232,
           0.07410079804204196,
           0.06251114389233027,
           0.06639160467478492,
           0.0751615838680419,
           0.06369884461520338,
           0.037123993386250824
          ],
          [
           -0.005784677209342095,
           0.028807459398499664,
           -0.00270470966370874,
           0.043857288882971274,
           0.05553189631733163,
           0.014085526835370397,
           0.028588792888842827,
           0.013805871239984663,
           0.022946828506632988,
           0.03097796693228106,
           0.031384108970026484,
           0.007973265700080742,
           0.0850542923126061,
           0.07797344567606636,
           1,
           0.09879026846288606,
           0.0296234314369631,
           0.313187034379423,
           0.055753523415116225,
           -0.0010448412529638251,
           0.12958731808829085,
           0.13603364103107934,
           0.05660995539834375,
           0.05347383519953646,
           0.00640020087962804,
           0.010298041412932762,
           0.2628450835702854,
           0.0476729004547175,
           0.11598999232102596,
           0.04795631788060002,
           0.03734493887082566,
           0.10206051069031676,
           0.04182833113710044,
           0.04157102797386726,
           0.13054950905410712,
           0.10087048844636784,
           0.16200361677367997,
           0.1757200275587994
          ],
          [
           0.04405287238298116,
           0.04879043175267243,
           0.017076961448508374,
           0.030369336522929006,
           0.029120344249513597,
           0.015094882693241257,
           0.00657957862975417,
           0.01177200961084629,
           0.001656693042872936,
           0.024073209092089938,
           0.012767820277529226,
           -0.0006004829226388825,
           0.02917359125631654,
           0.13555605255598732,
           0.09879026846288606,
           1,
           0.05512176756967928,
           0.06984261207916752,
           0.024640849882919983,
           -0.01171319560806112,
           0.053629920955620525,
           0.0738458076394151,
           0.025912472472263973,
           0.000597598662764767,
           -0.0028506565578937898,
           -0.013257890743166701,
           0.10990953985288111,
           0.0357780897944623,
           0.07120922821786745,
           0.0382782706875146,
           0.02171183704779364,
           0.049764917074669006,
           0.025037001414893092,
           0.022392231462673474,
           0.05238107052408047,
           0.036833318055489665,
           0.07026321406465082,
           0.034440535538244846
          ],
          [
           0.048083103644023836,
           0.02905938427659258,
           0.006867172548282764,
           0.008799647010686884,
           0.01667950450623014,
           0.01198762961257867,
           0.0064997531672477855,
           0.01429303449639132,
           0.012106353890310662,
           0.03409762491479823,
           0.0027600099774632613,
           -0.004208287983006666,
           0.007570450658432022,
           0.0646772137207064,
           0.0296234314369631,
           0.05512176756967928,
           1,
           0.02285771468543242,
           -0.007831302187869859,
           -0.017945709496928235,
           0.005766114782220054,
           0.028762722352284453,
           0.005914459104304067,
           0.0017597762723511523,
           -0.009222189244902769,
           -0.009272170923525183,
           0.05694084774229495,
           0.013070864148710835,
           0.02282786055658363,
           0.04492862771181019,
           0.0314249156054111,
           0.03894037752730205,
           0.0380441813641178,
           0.03524595135055557,
           0.005164720195321027,
           0.0034061683400903853,
           0.013186936591789707,
           0.0041685392280817165
          ],
          [
           0.012789991078647164,
           0.03877625666121272,
           -0.0006017003970389356,
           0.06205010244474374,
           0.06274925836587726,
           0.025421502203869344,
           0.030215622609842254,
           0.022154686808473746,
           0.05377179621994594,
           0.04060877012587676,
           0.0320700838923663,
           0.017111844155596124,
           0.1214609841339135,
           0.09431777672911149,
           0.313187034379423,
           0.06984261207916752,
           0.02285771468543242,
           1,
           0.08034892337832478,
           0.004953975867650024,
           0.15812542127190538,
           0.16532509977184032,
           0.04642404917779782,
           0.029426573149350863,
           0.0048559565111325675,
           0.005673517240114907,
           0.346426161178883,
           0.08997905654211512,
           0.11326961586575536,
           0.07603311048976774,
           0.05352800559856225,
           0.1795082968196774,
           0.06359764703910775,
           0.07688795012227158,
           0.157012914485634,
           0.08202780594097976,
           0.1961922030504835,
           0.19187903325216207
          ],
          [
           0.0007151641919278923,
           0.012709653837235891,
           0.022064009368572397,
           0.00981615684106897,
           0.0429117184488994,
           0.0045461675879921205,
           0.010338527329834733,
           -0.008444435760051642,
           0.018302507807486865,
           -0.0021446529695136546,
           -0.000852261621942227,
           0.03064501017204512,
           0.028049598423214625,
           0.029978571873796322,
           0.055753523415116225,
           0.024640849882919983,
           -0.007831302187869859,
           0.08034892337832478,
           1,
           0.41772809379535114,
           0.15989104946192942,
           0.09239269514476146,
           0.03060471446644814,
           0.038770384050934456,
           0.017108554893098944,
           -0.0003292729395813389,
           0.08320438114376535,
           0.03576555971356718,
           0.02728077473076477,
           0.01258205280838108,
           0.009692245598130882,
           0.040616755661232185,
           -0.0064130344379738375,
           -0.001429423762029019,
           0.04625185814336904,
           0.03880951553059147,
           0.03342590785233653,
           0.03442949611746737
          ],
          [
           -0.039672891498651115,
           -0.015219191086464716,
           0.007842545991397776,
           -0.01108245928579107,
           0.006296489555285005,
           -0.011740567432152535,
           -0.0002184203590269974,
           -0.014266960326481054,
           -0.0027215354825443254,
           -0.01071851674283185,
           -0.00856296646092731,
           -0.003689622904388729,
           -0.010454841390710559,
           -0.008316990582119549,
           -0.0010448412529638251,
           -0.01171319560806112,
           -0.017945709496928235,
           0.004953975867650024,
           0.41772809379535114,
           1,
           0.0444052959068816,
           0.022358151234630474,
           -0.000653612010991446,
           0.0032437958847593615,
           -0.0008663453279497002,
           -0.0022680521911911757,
           0.008486865167968614,
           -0.0018412813235980624,
           -0.004623493699746898,
           -0.013902587282529154,
           -0.013834592566352109,
           0.005159743743226174,
           -0.020019256254474177,
           -0.015961025286151124,
           0.0021247472028779408,
           0.0018066551034483216,
           -0.009104753773667944,
           -0.002850639396026114
          ],
          [
           0.011654498677240934,
           0.04704671435197421,
           0.030807495374633086,
           0.05402485729506045,
           0.06077474442201075,
           0.02636454770543647,
           0.023046187915090055,
           0.013707804187851282,
           0.05932234681471192,
           0.020302439692775624,
           0.03054151216570394,
           0.03171821086357638,
           0.12221347245235123,
           0.07796517579073102,
           0.12958731808829085,
           0.053629920955620525,
           0.005766114782220054,
           0.15812542127190538,
           0.15989104946192942,
           0.0444052959068816,
           1,
           0.22615429038556337,
           0.07336487554947706,
           0.04616679935479635,
           0.022788231272468415,
           0.005007661519463818,
           0.22651223944999688,
           0.048496620898741745,
           0.07858575079464256,
           0.05755457322281875,
           0.08232410426907728,
           0.12251946279979158,
           0.040184828146788046,
           0.042134713936297814,
           0.10492547648543686,
           0.08149411004962376,
           0.08086810821331221,
           0.09821275079594118
          ],
          [
           0.0466230583883804,
           0.027085319807067944,
           0.01877407617575466,
           0.08146195677737693,
           0.08754520335277288,
           0.04877238254067276,
           0.022715631766103757,
           0.020427040157512944,
           0.031039966507400197,
           0.04352047007968442,
           0.08562646545129121,
           0.0259743880335538,
           0.09932556786457397,
           0.0905810365000068,
           0.13603364103107934,
           0.0738458076394151,
           0.028762722352284453,
           0.16532509977184032,
           0.09239269514476146,
           0.022358151234630474,
           0.22615429038556337,
           1,
           0.047275093073671295,
           0.02807057280347398,
           0.02385933863020805,
           0.004049380150301749,
           0.1780756443752687,
           0.052154417678537256,
           0.1448574532307905,
           0.06883126085353056,
           0.028940388522039843,
           0.08050242807545466,
           0.022382165908917284,
           0.019883654293589646,
           0.09609030214128474,
           0.07520851400841139,
           0.06713679106832197,
           0.06796636182700337
          ],
          [
           -0.015515799521346706,
           0.025491672394651763,
           -0.0027410700386397337,
           0.02570807127721403,
           0.03095615558120981,
           0.0016211650313574862,
           0.017840452243110455,
           0.014117585944134687,
           0.019580483001678393,
           0.01509825509416471,
           0.010212712328558068,
           0.009152598200828269,
           0.03970278053198326,
           0.041059008983645034,
           0.05660995539834375,
           0.025912472472263973,
           0.005914459104304067,
           0.04642404917779782,
           0.03060471446644814,
           -0.000653612010991446,
           0.07336487554947706,
           0.047275093073671295,
           1,
           0.1549985002415476,
           0.3292265216948967,
           0.19441862526037748,
           0.07506316380068236,
           0.019085545651327574,
           0.02040151349804148,
           0.011407721534384126,
           0.017917684252266513,
           0.04465261345538746,
           0.007102425159436342,
           0.009668543856581696,
           0.10233083225903175,
           0.10365333607427425,
           0.05212853161313604,
           0.036420371907535144
          ],
          [
           0.018492556345243605,
           0.03549095776303025,
           0.008030906262186194,
           0.051468481690684055,
           0.042280600811849305,
           0.02481971639497675,
           0.03346794699598855,
           0.024392518298130914,
           0.02131349158888259,
           0.030263883080616123,
           0.028003030962317942,
           0.02375662801950122,
           0.026712910010140346,
           0.04966329570678958,
           0.05347383519953646,
           0.000597598662764767,
           0.0017597762723511523,
           0.029426573149350863,
           0.038770384050934456,
           0.0032437958847593615,
           0.04616679935479635,
           0.02807057280347398,
           0.1549985002415476,
           1,
           0.13635973446129213,
           0.08344009599843984,
           0.05800398705230756,
           0.03411951212727829,
           0.016836766941027582,
           0.07331728375981267,
           0.0831387290017696,
           0.06231605916203545,
           0.0045982275957313365,
           -0.0008852305012954333,
           0.01956957833632031,
           0.023522680867880563,
           0.013150835576472515,
           0.023221586679267714
          ],
          [
           -0.009157683517325588,
           -0.007289598454478737,
           0.0027654668614397453,
           0.007494876083817297,
           0.008772674205258527,
           0.0043583344481302735,
           0.0058919145646911236,
           0.002921869404044176,
           0.002440972256141925,
           -0.0008653052965750376,
           0.0157735673669133,
           0.0010627076778419336,
           0.0038708810488996396,
           -0.0018216590935259246,
           0.00640020087962804,
           -0.0028506565578937898,
           -0.009222189244902769,
           0.0048559565111325675,
           0.017108554893098944,
           -0.0008663453279497002,
           0.022788231272468415,
           0.02385933863020805,
           0.3292265216948967,
           0.13635973446129213,
           1,
           0.20164793116133653,
           0.009234203380290405,
           -0.0002690893831371123,
           0.006384876319138159,
           -0.00687196766509705,
           0.0001068180189679901,
           0.00804161504944811,
           -0.004034113573550991,
           -0.001167082580764607,
           0.0363734264161189,
           0.055255759218304654,
           0.0015838241164301942,
           0.009976823667840744
          ],
          [
           -0.02658863198359859,
           -0.02023877773996743,
           -0.007647337834145122,
           0.0019626050417318134,
           -0.009289506501223857,
           -0.005466538257317871,
           -0.007445966273654058,
           -0.0030757230578392926,
           0.00047070026022852097,
           -0.006730266095054316,
           -0.003648918419971552,
           -0.0043630350280567725,
           -0.0014409453871008788,
           -0.010883987210361285,
           0.010298041412932762,
           -0.013257890743166701,
           -0.009272170923525183,
           0.005673517240114907,
           -0.0003292729395813389,
           -0.0022680521911911757,
           0.005007661519463818,
           0.004049380150301749,
           0.19441862526037748,
           0.08344009599843984,
           0.20164793116133653,
           1,
           -0.0013171997512474547,
           -0.006672979682982077,
           0.0032834557180008816,
           -0.020813230156640404,
           -0.017098666356661834,
           0.00013602367041258047,
           -0.010350390075351155,
           -0.011333215634088964,
           0.0052436334004286505,
           0.017330455656745118,
           -0.0007651747557923028,
           0.011374311619277206
          ],
          [
           0.061116568173391866,
           0.08908108466863575,
           0.015813399858773353,
           0.09649162494219657,
           0.10221605132043023,
           0.047852415239697965,
           0.04727590757388699,
           0.040914000150524786,
           0.06531842015561962,
           0.0746656218977512,
           0.058406288248625836,
           0.02513817258127961,
           0.1682920791221839,
           0.18672977675198504,
           0.2628450835702854,
           0.10990953985288111,
           0.05694084774229495,
           0.346426161178883,
           0.08320438114376535,
           0.008486865167968614,
           0.22651223944999688,
           0.1780756443752687,
           0.07506316380068236,
           0.05800398705230756,
           0.009234203380290405,
           -0.0013171997512474547,
           1,
           0.1203300058626553,
           0.2417050800581031,
           0.16237008995269242,
           0.12686402197659286,
           0.2585149129960648,
           0.12903144707818404,
           0.1272493097211087,
           0.19474049248170583,
           0.13013157906981754,
           0.20130047350104277,
           0.24512424439513503
          ],
          [
           -0.03183866361761928,
           0.050017494612016794,
           0.010369113673997656,
           0.022963418590475744,
           0.03310270925494346,
           0.004059876228000673,
           0.016903828183834117,
           0.013516047804381077,
           0.0111504166446658,
           0.024923534719079193,
           -0.009476451233122877,
           0.006528803494908732,
           0.01800349012953127,
           0.09059424911981591,
           0.0476729004547175,
           0.0357780897944623,
           0.013070864148710835,
           0.08997905654211512,
           0.03576555971356718,
           -0.0018412813235980624,
           0.048496620898741745,
           0.052154417678537256,
           0.019085545651327574,
           0.03411951212727829,
           -0.0002690893831371123,
           -0.006672979682982077,
           0.1203300058626553,
           1,
           0.017854458224080383,
           0.0787869117929816,
           0.097718039505421,
           0.08647606830004065,
           0.030369560509910586,
           0.0341633738899264,
           0.04507870554525832,
           0.03777972519305511,
           0.04018699290981505,
           0.03102392981923123
          ],
          [
           0.029692523233829492,
           0.03219040777018964,
           -0.006381632593823678,
           0.07020530953523872,
           0.066442927277204,
           0.05858364255962667,
           0.02572192401835613,
           0.030405883831498677,
           0.03689548403258698,
           0.07958259356097036,
           0.07319413124862457,
           0.019730394284104207,
           0.05321881779929901,
           0.08973420078317346,
           0.11598999232102596,
           0.07120922821786745,
           0.02282786055658363,
           0.11326961586575536,
           0.02728077473076477,
           -0.004623493699746898,
           0.07858575079464256,
           0.1448574532307905,
           0.02040151349804148,
           0.016836766941027582,
           0.006384876319138159,
           0.0032834557180008816,
           0.2417050800581031,
           0.017854458224080383,
           1,
           0.06405909960042354,
           0.05463958378541679,
           0.08041598248988927,
           0.057403642575437154,
           0.06432498295074962,
           0.04112284244784253,
           0.02763322625554368,
           0.05977058584254338,
           0.07913647959056853
          ],
          [
           0.06248946287062163,
           0.050795558114847206,
           0.009026874106711599,
           0.06118481433973301,
           0.05657113729457325,
           0.01736886922082777,
           0.028911383193802775,
           0.029567045803987734,
           0.03478287671143654,
           0.054262089198482355,
           0.014776137258436869,
           0.0010735039860335185,
           0.03059706005766082,
           0.13874062781461713,
           0.04795631788060002,
           0.0382782706875146,
           0.04492862771181019,
           0.07603311048976774,
           0.01258205280838108,
           -0.013902587282529154,
           0.05755457322281875,
           0.06883126085353056,
           0.011407721534384126,
           0.07331728375981267,
           -0.00687196766509705,
           -0.020813230156640404,
           0.16237008995269242,
           0.0787869117929816,
           0.06405909960042354,
           1,
           0.15483858477732254,
           0.12479605758827382,
           0.09127950968551336,
           0.08279094617807846,
           0.044994245668184996,
           0.03482925488329812,
           0.05594797165428265,
           0.06412312078664274
          ],
          [
           0.057355501795335134,
           0.131838859278728,
           0.020049685823873137,
           0.06258192615259978,
           0.045957841913186206,
           0.0465605149907635,
           0.04316824887912431,
           0.06809094646478915,
           0.10065657865454863,
           0.0999949963073524,
           -0.01196075115894397,
           0.0213677167030801,
           0.027999353021179535,
           0.14911914903505474,
           0.03734493887082566,
           0.02171183704779364,
           0.0314249156054111,
           0.05352800559856225,
           0.009692245598130882,
           -0.013834592566352109,
           0.08232410426907728,
           0.028940388522039843,
           0.017917684252266513,
           0.0831387290017696,
           0.0001068180189679901,
           -0.017098666356661834,
           0.12686402197659286,
           0.097718039505421,
           0.05463958378541679,
           0.15483858477732254,
           1,
           0.15591691371278465,
           0.1366224819755666,
           0.11723865086160495,
           0.008716948453540404,
           0.019889337354206213,
           0.03045229222665443,
           0.014600454662745047
          ],
          [
           0.016463152877159826,
           0.045861617151319235,
           0.003550380042365407,
           0.06373900060926262,
           0.058189947950053875,
           0.015502094489741946,
           0.039139281093792694,
           0.023367065031483114,
           0.05630571212079827,
           0.045565467633159315,
           0.021992435584395006,
           0.014916456859471176,
           0.07366591080317197,
           0.12254461528849232,
           0.10206051069031676,
           0.049764917074669006,
           0.03894037752730205,
           0.1795082968196774,
           0.040616755661232185,
           0.005159743743226174,
           0.12251946279979158,
           0.08050242807545466,
           0.04465261345538746,
           0.06231605916203545,
           0.00804161504944811,
           0.00013602367041258047,
           0.2585149129960648,
           0.08647606830004065,
           0.08041598248988927,
           0.12479605758827382,
           0.15591691371278465,
           1,
           0.11063863049293621,
           0.08694307035402833,
           0.08210292604132788,
           0.053958352495991124,
           0.06952827602588467,
           0.09154586349219897
          ],
          [
           0.08479277688284256,
           0.02492219622469262,
           0.0016799229883645466,
           0.026349684958030344,
           0.05030212998804136,
           0.02156639577497141,
           0.01728278117428253,
           0.032484001584565804,
           0.036269881655234384,
           0.0751408416932004,
           0.007038777313886524,
           0.016578962175635682,
           0.03422284471111337,
           0.07410079804204196,
           0.04182833113710044,
           0.025037001414893092,
           0.0380441813641178,
           0.06359764703910775,
           -0.0064130344379738375,
           -0.020019256254474177,
           0.040184828146788046,
           0.022382165908917284,
           0.007102425159436342,
           0.0045982275957313365,
           -0.004034113573550991,
           -0.010350390075351155,
           0.12903144707818404,
           0.030369560509910586,
           0.057403642575437154,
           0.09127950968551336,
           0.1366224819755666,
           0.11063863049293621,
           1,
           0.3941900415944224,
           0.026326965390273103,
           0.02100198974411632,
           0.028502404824649066,
           0.044113312221755054
          ],
          [
           0.049231475623502816,
           0.027687233187355324,
           -0.0034360796930379893,
           0.024709601451266987,
           0.03149476145737544,
           0.016169962560665087,
           0.01418605261121732,
           0.03535994956850387,
           0.04491232133959925,
           0.06697842856620662,
           0.0025003932717775033,
           0.032151735668372636,
           0.05232042125185033,
           0.06251114389233027,
           0.04157102797386726,
           0.022392231462673474,
           0.03524595135055557,
           0.07688795012227158,
           -0.001429423762029019,
           -0.015961025286151124,
           0.042134713936297814,
           0.019883654293589646,
           0.009668543856581696,
           -0.0008852305012954333,
           -0.001167082580764607,
           -0.011333215634088964,
           0.1272493097211087,
           0.0341633738899264,
           0.06432498295074962,
           0.08279094617807846,
           0.11723865086160495,
           0.08694307035402833,
           0.3941900415944224,
           1,
           0.029518791394013526,
           0.02483709845756799,
           0.034938853951020615,
           0.05471016455608097
          ],
          [
           0.002060999875297881,
           0.006713000088737597,
           0.007454989755184092,
           0.015564386316775035,
           0.018278664692730096,
           0.005584107856134688,
           0.009605229894347969,
           0.0004366427078354236,
           0.014343596183401905,
           0.006188309811076355,
           0.00004509361348341819,
           0.0015115218462881405,
           0.051175293961009595,
           0.06639160467478492,
           0.13054950905410712,
           0.05238107052408047,
           0.005164720195321027,
           0.157012914485634,
           0.04625185814336904,
           0.0021247472028779408,
           0.10492547648543686,
           0.09609030214128474,
           0.10233083225903175,
           0.01956957833632031,
           0.0363734264161189,
           0.0052436334004286505,
           0.19474049248170583,
           0.04507870554525832,
           0.04112284244784253,
           0.044994245668184996,
           0.008716948453540404,
           0.08210292604132788,
           0.026326965390273103,
           0.029518791394013526,
           1,
           0.1782027040839922,
           0.11226969898958228,
           0.1559967238120855
          ],
          [
           -0.005613570976448685,
           0.033382232229966745,
           0.015306506861470124,
           0.01580389972342165,
           0.016625238607864887,
           0.0036398692146957677,
           0.01974793626247162,
           0.012679173513126451,
           0.013070182257489437,
           0.00820281898639859,
           -0.002453736246723593,
           0.006447221508821205,
           0.03354538906020805,
           0.0751615838680419,
           0.10087048844636784,
           0.036833318055489665,
           0.0034061683400903853,
           0.08202780594097976,
           0.03880951553059147,
           0.0018066551034483216,
           0.08149411004962376,
           0.07520851400841139,
           0.10365333607427425,
           0.023522680867880563,
           0.055255759218304654,
           0.017330455656745118,
           0.13013157906981754,
           0.03777972519305511,
           0.02763322625554368,
           0.03482925488329812,
           0.019889337354206213,
           0.053958352495991124,
           0.02100198974411632,
           0.02483709845756799,
           0.1782027040839922,
           1,
           0.07752288249948831,
           0.07302255690236467
          ],
          [
           -0.019145193900534024,
           0.026874826410927623,
           0.011267637194100108,
           0.021651256668298705,
           0.0386547410309991,
           0.00930265771314433,
           0.008000652157434942,
           0.004807810986002497,
           0.025065823746410948,
           0.015953823068233487,
           0.008639023323449548,
           0.003932828641830953,
           0.06110045607914882,
           0.06369884461520338,
           0.16200361677367997,
           0.07026321406465082,
           0.013186936591789707,
           0.1961922030504835,
           0.03342590785233653,
           -0.009104753773667944,
           0.08086810821331221,
           0.06713679106832197,
           0.05212853161313604,
           0.013150835576472515,
           0.0015838241164301942,
           -0.0007651747557923028,
           0.20130047350104277,
           0.04018699290981505,
           0.05977058584254338,
           0.05594797165428265,
           0.03045229222665443,
           0.06952827602588467,
           0.028502404824649066,
           0.034938853951020615,
           0.11226969898958228,
           0.07752288249948831,
           1,
           0.16588129583165562
          ],
          [
           0.022508140857355283,
           0.005430478895835646,
           -0.007160355548674097,
           0.01891771943751168,
           0.0185525366213533,
           0.006633060515547509,
           0.007529603413935794,
           0.006794710368319373,
           0.019727344057420687,
           0.014749448850253675,
           0.013326234740839915,
           0.005414464425303271,
           0.0869639583689395,
           0.037123993386250824,
           0.1757200275587994,
           0.034440535538244846,
           0.0041685392280817165,
           0.19187903325216207,
           0.03442949611746737,
           -0.002850639396026114,
           0.09821275079594118,
           0.06796636182700337,
           0.036420371907535144,
           0.023221586679267714,
           0.009976823667840744,
           0.011374311619277206,
           0.24512424439513503,
           0.03102392981923123,
           0.07913647959056853,
           0.06412312078664274,
           0.014600454662745047,
           0.09154586349219897,
           0.044113312221755054,
           0.05471016455608097,
           0.1559967238120855,
           0.07302255690236467,
           0.16588129583165562,
           1
          ]
         ]
        }
       ],
       "layout": {
        "coloraxis": {
         "colorscale": [
          [
           0,
           "rgb(103,0,31)"
          ],
          [
           0.1,
           "rgb(178,24,43)"
          ],
          [
           0.2,
           "rgb(214,96,77)"
          ],
          [
           0.3,
           "rgb(244,165,130)"
          ],
          [
           0.4,
           "rgb(253,219,199)"
          ],
          [
           0.5,
           "rgb(247,247,247)"
          ],
          [
           0.6,
           "rgb(209,229,240)"
          ],
          [
           0.7,
           "rgb(146,197,222)"
          ],
          [
           0.8,
           "rgb(67,147,195)"
          ],
          [
           0.9,
           "rgb(33,102,172)"
          ],
          [
           1,
           "rgb(5,48,97)"
          ]
         ]
        },
        "height": 1000,
        "template": {
         "data": {
          "bar": [
           {
            "error_x": {
             "color": "#2a3f5f"
            },
            "error_y": {
             "color": "#2a3f5f"
            },
            "marker": {
             "line": {
              "color": "#E5ECF6",
              "width": 0.5
             },
             "pattern": {
              "fillmode": "overlay",
              "size": 10,
              "solidity": 0.2
             }
            },
            "type": "bar"
           }
          ],
          "barpolar": [
           {
            "marker": {
             "line": {
              "color": "#E5ECF6",
              "width": 0.5
             },
             "pattern": {
              "fillmode": "overlay",
              "size": 10,
              "solidity": 0.2
             }
            },
            "type": "barpolar"
           }
          ],
          "carpet": [
           {
            "aaxis": {
             "endlinecolor": "#2a3f5f",
             "gridcolor": "white",
             "linecolor": "white",
             "minorgridcolor": "white",
             "startlinecolor": "#2a3f5f"
            },
            "baxis": {
             "endlinecolor": "#2a3f5f",
             "gridcolor": "white",
             "linecolor": "white",
             "minorgridcolor": "white",
             "startlinecolor": "#2a3f5f"
            },
            "type": "carpet"
           }
          ],
          "choropleth": [
           {
            "colorbar": {
             "outlinewidth": 0,
             "ticks": ""
            },
            "type": "choropleth"
           }
          ],
          "contour": [
           {
            "colorbar": {
             "outlinewidth": 0,
             "ticks": ""
            },
            "colorscale": [
             [
              0,
              "#0d0887"
             ],
             [
              0.1111111111111111,
              "#46039f"
             ],
             [
              0.2222222222222222,
              "#7201a8"
             ],
             [
              0.3333333333333333,
              "#9c179e"
             ],
             [
              0.4444444444444444,
              "#bd3786"
             ],
             [
              0.5555555555555556,
              "#d8576b"
             ],
             [
              0.6666666666666666,
              "#ed7953"
             ],
             [
              0.7777777777777778,
              "#fb9f3a"
             ],
             [
              0.8888888888888888,
              "#fdca26"
             ],
             [
              1,
              "#f0f921"
             ]
            ],
            "type": "contour"
           }
          ],
          "contourcarpet": [
           {
            "colorbar": {
             "outlinewidth": 0,
             "ticks": ""
            },
            "type": "contourcarpet"
           }
          ],
          "heatmap": [
           {
            "colorbar": {
             "outlinewidth": 0,
             "ticks": ""
            },
            "colorscale": [
             [
              0,
              "#0d0887"
             ],
             [
              0.1111111111111111,
              "#46039f"
             ],
             [
              0.2222222222222222,
              "#7201a8"
             ],
             [
              0.3333333333333333,
              "#9c179e"
             ],
             [
              0.4444444444444444,
              "#bd3786"
             ],
             [
              0.5555555555555556,
              "#d8576b"
             ],
             [
              0.6666666666666666,
              "#ed7953"
             ],
             [
              0.7777777777777778,
              "#fb9f3a"
             ],
             [
              0.8888888888888888,
              "#fdca26"
             ],
             [
              1,
              "#f0f921"
             ]
            ],
            "type": "heatmap"
           }
          ],
          "heatmapgl": [
           {
            "colorbar": {
             "outlinewidth": 0,
             "ticks": ""
            },
            "colorscale": [
             [
              0,
              "#0d0887"
             ],
             [
              0.1111111111111111,
              "#46039f"
             ],
             [
              0.2222222222222222,
              "#7201a8"
             ],
             [
              0.3333333333333333,
              "#9c179e"
             ],
             [
              0.4444444444444444,
              "#bd3786"
             ],
             [
              0.5555555555555556,
              "#d8576b"
             ],
             [
              0.6666666666666666,
              "#ed7953"
             ],
             [
              0.7777777777777778,
              "#fb9f3a"
             ],
             [
              0.8888888888888888,
              "#fdca26"
             ],
             [
              1,
              "#f0f921"
             ]
            ],
            "type": "heatmapgl"
           }
          ],
          "histogram": [
           {
            "marker": {
             "pattern": {
              "fillmode": "overlay",
              "size": 10,
              "solidity": 0.2
             }
            },
            "type": "histogram"
           }
          ],
          "histogram2d": [
           {
            "colorbar": {
             "outlinewidth": 0,
             "ticks": ""
            },
            "colorscale": [
             [
              0,
              "#0d0887"
             ],
             [
              0.1111111111111111,
              "#46039f"
             ],
             [
              0.2222222222222222,
              "#7201a8"
             ],
             [
              0.3333333333333333,
              "#9c179e"
             ],
             [
              0.4444444444444444,
              "#bd3786"
             ],
             [
              0.5555555555555556,
              "#d8576b"
             ],
             [
              0.6666666666666666,
              "#ed7953"
             ],
             [
              0.7777777777777778,
              "#fb9f3a"
             ],
             [
              0.8888888888888888,
              "#fdca26"
             ],
             [
              1,
              "#f0f921"
             ]
            ],
            "type": "histogram2d"
           }
          ],
          "histogram2dcontour": [
           {
            "colorbar": {
             "outlinewidth": 0,
             "ticks": ""
            },
            "colorscale": [
             [
              0,
              "#0d0887"
             ],
             [
              0.1111111111111111,
              "#46039f"
             ],
             [
              0.2222222222222222,
              "#7201a8"
             ],
             [
              0.3333333333333333,
              "#9c179e"
             ],
             [
              0.4444444444444444,
              "#bd3786"
             ],
             [
              0.5555555555555556,
              "#d8576b"
             ],
             [
              0.6666666666666666,
              "#ed7953"
             ],
             [
              0.7777777777777778,
              "#fb9f3a"
             ],
             [
              0.8888888888888888,
              "#fdca26"
             ],
             [
              1,
              "#f0f921"
             ]
            ],
            "type": "histogram2dcontour"
           }
          ],
          "mesh3d": [
           {
            "colorbar": {
             "outlinewidth": 0,
             "ticks": ""
            },
            "type": "mesh3d"
           }
          ],
          "parcoords": [
           {
            "line": {
             "colorbar": {
              "outlinewidth": 0,
              "ticks": ""
             }
            },
            "type": "parcoords"
           }
          ],
          "pie": [
           {
            "automargin": true,
            "type": "pie"
           }
          ],
          "scatter": [
           {
            "fillpattern": {
             "fillmode": "overlay",
             "size": 10,
             "solidity": 0.2
            },
            "type": "scatter"
           }
          ],
          "scatter3d": [
           {
            "line": {
             "colorbar": {
              "outlinewidth": 0,
              "ticks": ""
             }
            },
            "marker": {
             "colorbar": {
              "outlinewidth": 0,
              "ticks": ""
             }
            },
            "type": "scatter3d"
           }
          ],
          "scattercarpet": [
           {
            "marker": {
             "colorbar": {
              "outlinewidth": 0,
              "ticks": ""
             }
            },
            "type": "scattercarpet"
           }
          ],
          "scattergeo": [
           {
            "marker": {
             "colorbar": {
              "outlinewidth": 0,
              "ticks": ""
             }
            },
            "type": "scattergeo"
           }
          ],
          "scattergl": [
           {
            "marker": {
             "colorbar": {
              "outlinewidth": 0,
              "ticks": ""
             }
            },
            "type": "scattergl"
           }
          ],
          "scattermapbox": [
           {
            "marker": {
             "colorbar": {
              "outlinewidth": 0,
              "ticks": ""
             }
            },
            "type": "scattermapbox"
           }
          ],
          "scatterpolar": [
           {
            "marker": {
             "colorbar": {
              "outlinewidth": 0,
              "ticks": ""
             }
            },
            "type": "scatterpolar"
           }
          ],
          "scatterpolargl": [
           {
            "marker": {
             "colorbar": {
              "outlinewidth": 0,
              "ticks": ""
             }
            },
            "type": "scatterpolargl"
           }
          ],
          "scatterternary": [
           {
            "marker": {
             "colorbar": {
              "outlinewidth": 0,
              "ticks": ""
             }
            },
            "type": "scatterternary"
           }
          ],
          "surface": [
           {
            "colorbar": {
             "outlinewidth": 0,
             "ticks": ""
            },
            "colorscale": [
             [
              0,
              "#0d0887"
             ],
             [
              0.1111111111111111,
              "#46039f"
             ],
             [
              0.2222222222222222,
              "#7201a8"
             ],
             [
              0.3333333333333333,
              "#9c179e"
             ],
             [
              0.4444444444444444,
              "#bd3786"
             ],
             [
              0.5555555555555556,
              "#d8576b"
             ],
             [
              0.6666666666666666,
              "#ed7953"
             ],
             [
              0.7777777777777778,
              "#fb9f3a"
             ],
             [
              0.8888888888888888,
              "#fdca26"
             ],
             [
              1,
              "#f0f921"
             ]
            ],
            "type": "surface"
           }
          ],
          "table": [
           {
            "cells": {
             "fill": {
              "color": "#EBF0F8"
             },
             "line": {
              "color": "white"
             }
            },
            "header": {
             "fill": {
              "color": "#C8D4E3"
             },
             "line": {
              "color": "white"
             }
            },
            "type": "table"
           }
          ]
         },
         "layout": {
          "annotationdefaults": {
           "arrowcolor": "#2a3f5f",
           "arrowhead": 0,
           "arrowwidth": 1
          },
          "autotypenumbers": "strict",
          "coloraxis": {
           "colorbar": {
            "outlinewidth": 0,
            "ticks": ""
           }
          },
          "colorscale": {
           "diverging": [
            [
             0,
             "#8e0152"
            ],
            [
             0.1,
             "#c51b7d"
            ],
            [
             0.2,
             "#de77ae"
            ],
            [
             0.3,
             "#f1b6da"
            ],
            [
             0.4,
             "#fde0ef"
            ],
            [
             0.5,
             "#f7f7f7"
            ],
            [
             0.6,
             "#e6f5d0"
            ],
            [
             0.7,
             "#b8e186"
            ],
            [
             0.8,
             "#7fbc41"
            ],
            [
             0.9,
             "#4d9221"
            ],
            [
             1,
             "#276419"
            ]
           ],
           "sequential": [
            [
             0,
             "#0d0887"
            ],
            [
             0.1111111111111111,
             "#46039f"
            ],
            [
             0.2222222222222222,
             "#7201a8"
            ],
            [
             0.3333333333333333,
             "#9c179e"
            ],
            [
             0.4444444444444444,
             "#bd3786"
            ],
            [
             0.5555555555555556,
             "#d8576b"
            ],
            [
             0.6666666666666666,
             "#ed7953"
            ],
            [
             0.7777777777777778,
             "#fb9f3a"
            ],
            [
             0.8888888888888888,
             "#fdca26"
            ],
            [
             1,
             "#f0f921"
            ]
           ],
           "sequentialminus": [
            [
             0,
             "#0d0887"
            ],
            [
             0.1111111111111111,
             "#46039f"
            ],
            [
             0.2222222222222222,
             "#7201a8"
            ],
            [
             0.3333333333333333,
             "#9c179e"
            ],
            [
             0.4444444444444444,
             "#bd3786"
            ],
            [
             0.5555555555555556,
             "#d8576b"
            ],
            [
             0.6666666666666666,
             "#ed7953"
            ],
            [
             0.7777777777777778,
             "#fb9f3a"
            ],
            [
             0.8888888888888888,
             "#fdca26"
            ],
            [
             1,
             "#f0f921"
            ]
           ]
          },
          "colorway": [
           "#636efa",
           "#EF553B",
           "#00cc96",
           "#ab63fa",
           "#FFA15A",
           "#19d3f3",
           "#FF6692",
           "#B6E880",
           "#FF97FF",
           "#FECB52"
          ],
          "font": {
           "color": "#2a3f5f"
          },
          "geo": {
           "bgcolor": "white",
           "lakecolor": "white",
           "landcolor": "#E5ECF6",
           "showlakes": true,
           "showland": true,
           "subunitcolor": "white"
          },
          "hoverlabel": {
           "align": "left"
          },
          "hovermode": "closest",
          "mapbox": {
           "style": "light"
          },
          "paper_bgcolor": "white",
          "plot_bgcolor": "#E5ECF6",
          "polar": {
           "angularaxis": {
            "gridcolor": "white",
            "linecolor": "white",
            "ticks": ""
           },
           "bgcolor": "#E5ECF6",
           "radialaxis": {
            "gridcolor": "white",
            "linecolor": "white",
            "ticks": ""
           }
          },
          "scene": {
           "xaxis": {
            "backgroundcolor": "#E5ECF6",
            "gridcolor": "white",
            "gridwidth": 2,
            "linecolor": "white",
            "showbackground": true,
            "ticks": "",
            "zerolinecolor": "white"
           },
           "yaxis": {
            "backgroundcolor": "#E5ECF6",
            "gridcolor": "white",
            "gridwidth": 2,
            "linecolor": "white",
            "showbackground": true,
            "ticks": "",
            "zerolinecolor": "white"
           },
           "zaxis": {
            "backgroundcolor": "#E5ECF6",
            "gridcolor": "white",
            "gridwidth": 2,
            "linecolor": "white",
            "showbackground": true,
            "ticks": "",
            "zerolinecolor": "white"
           }
          },
          "shapedefaults": {
           "line": {
            "color": "#2a3f5f"
           }
          },
          "ternary": {
           "aaxis": {
            "gridcolor": "white",
            "linecolor": "white",
            "ticks": ""
           },
           "baxis": {
            "gridcolor": "white",
            "linecolor": "white",
            "ticks": ""
           },
           "bgcolor": "#E5ECF6",
           "caxis": {
            "gridcolor": "white",
            "linecolor": "white",
            "ticks": ""
           }
          },
          "title": {
           "x": 0.05
          },
          "xaxis": {
           "automargin": true,
           "gridcolor": "white",
           "linecolor": "white",
           "ticks": "",
           "title": {
            "standoff": 15
           },
           "zerolinecolor": "white",
           "zerolinewidth": 2
          },
          "yaxis": {
           "automargin": true,
           "gridcolor": "white",
           "linecolor": "white",
           "ticks": "",
           "title": {
            "standoff": 15
           },
           "zerolinecolor": "white",
           "zerolinewidth": 2
          }
         }
        },
        "title": {
         "text": "Correlation Heatmap"
        },
        "width": 1200,
        "xaxis": {
         "anchor": "y",
         "constrain": "domain",
         "domain": [
          0,
          1
         ],
         "scaleanchor": "y"
        },
        "yaxis": {
         "anchor": "x",
         "autorange": "reversed",
         "constrain": "domain",
         "domain": [
          0,
          1
         ]
        }
       }
      },
      "text/html": [
       "<div>                            <div id=\"5c293463-1872-4e7a-9489-640282f559e8\" class=\"plotly-graph-div\" style=\"height:1000px; width:1200px;\"></div>            <script type=\"text/javascript\">                require([\"plotly\"], function(Plotly) {                    window.PLOTLYENV=window.PLOTLYENV || {};                                    if (document.getElementById(\"5c293463-1872-4e7a-9489-640282f559e8\")) {                    Plotly.newPlot(                        \"5c293463-1872-4e7a-9489-640282f559e8\",                        [{\"coloraxis\":\"coloraxis\",\"name\":\"0\",\"x\":[\"Cust_ID\",\"Gender\",\"Orders\",\"Jordan\",\"Gatorade\",\"Samsung\",\"Asus\",\"Udis\",\"Mondelez International\",\"Wrangler\",\"Vans\",\"Fila\",\"Brooks\",\"H&M\",\"Dairy Queen\",\"Fendi\",\"Hewlett Packard\",\"Pladis\",\"Asics\",\"Siemens\",\"J.M. Smucker\",\"Pop Chips\",\"Juniper\",\"Huawei\",\"Compaq\",\"IBM\",\"Burberry\",\"Mi\",\"LG\",\"Dior\",\"Scabal\",\"Tommy Hilfiger\",\"Hollister\",\"Forever 21\",\"Colavita\",\"Microsoft\",\"Jiffy mix\",\"Kraft\"],\"y\":[\"Cust_ID\",\"Gender\",\"Orders\",\"Jordan\",\"Gatorade\",\"Samsung\",\"Asus\",\"Udis\",\"Mondelez International\",\"Wrangler\",\"Vans\",\"Fila\",\"Brooks\",\"H&M\",\"Dairy Queen\",\"Fendi\",\"Hewlett Packard\",\"Pladis\",\"Asics\",\"Siemens\",\"J.M. Smucker\",\"Pop Chips\",\"Juniper\",\"Huawei\",\"Compaq\",\"IBM\",\"Burberry\",\"Mi\",\"LG\",\"Dior\",\"Scabal\",\"Tommy Hilfiger\",\"Hollister\",\"Forever 21\",\"Colavita\",\"Microsoft\",\"Jiffy mix\",\"Kraft\"],\"z\":[[1.0,0.044437240341774445,0.02913222427347274,0.06427695017081926,0.021821418757368594,0.057205961011690905,0.04919143898071447,0.06067719222118367,0.03555979760623909,0.04304278532386802,0.002158070981271044,-0.0004497886531845801,0.03957430652487597,0.02342635911809623,-0.005784677209342095,0.04405287238298116,0.048083103644023836,0.012789991078647164,0.0007151641919278923,-0.039672891498651115,0.011654498677240934,0.0466230583883804,-0.015515799521346706,0.018492556345243605,-0.009157683517325588,-0.02658863198359859,0.061116568173391866,-0.03183866361761928,0.029692523233829492,0.06248946287062163,0.057355501795335134,0.016463152877159826,0.08479277688284256,0.049231475623502816,0.002060999875297881,-0.005613570976448685,-0.019145193900534024,0.022508140857355283],[0.044437240341774445,1.0,0.04916291221794199,0.017030005024285092,-0.03344629566225854,0.017896050637079698,0.08317158492318574,0.06362799323337444,0.03949522327610009,0.061492119360556895,-0.06814652029116365,-0.00960525440488125,0.003887159704350916,0.10566773865658215,0.028807459398499664,0.04879043175267243,0.02905938427659258,0.03877625666121272,0.012709653837235891,-0.015219191086464716,0.04704671435197421,0.027085319807067944,0.025491672394651763,0.03549095776303025,-0.007289598454478737,-0.02023877773996743,0.08908108466863575,0.050017494612016794,0.03219040777018964,0.050795558114847206,0.131838859278728,0.045861617151319235,0.02492219622469262,0.027687233187355324,0.006713000088737597,0.033382232229966745,0.026874826410927623,0.005430478895835646],[0.02913222427347274,0.04916291221794199,1.0,0.016090302115645855,0.034310097949058295,0.017884930044747123,0.015584303969947266,0.009017905690918442,0.008740529889529967,0.003856231899378067,0.006342736524311423,-0.00962692704058636,0.01538948334272586,0.03083317630646359,-0.00270470966370874,0.017076961448508374,0.006867172548282764,-0.0006017003970389356,0.022064009368572397,0.007842545991397776,0.030807495374633086,0.01877407617575466,-0.0027410700386397337,0.008030906262186194,0.0027654668614397453,-0.007647337834145122,0.015813399858773353,0.010369113673997656,-0.006381632593823678,0.009026874106711599,0.020049685823873137,0.003550380042365407,0.0016799229883645466,-0.0034360796930379893,0.007454989755184092,0.015306506861470124,0.011267637194100108,-0.007160355548674097],[0.06427695017081926,0.017030005024285092,0.016090302115645855,1.0,0.17725423021639328,0.07125781666328246,0.1237307421342451,0.13567284182449912,0.02194954962680859,0.040710404411280446,0.11579642381713182,0.03161129204796136,0.16547142801299003,0.03830235336253926,0.043857288882971274,0.030369336522929006,0.008799647010686884,0.06205010244474374,0.00981615684106897,-0.01108245928579107,0.05402485729506045,0.08146195677737693,0.02570807127721403,0.051468481690684055,0.007494876083817297,0.0019626050417318134,0.09649162494219657,0.022963418590475744,0.07020530953523872,0.06118481433973301,0.06258192615259978,0.06373900060926262,0.026349684958030344,0.024709601451266987,0.015564386316775035,0.01580389972342165,0.021651256668298705,0.01891771943751168],[0.021821418757368594,-0.03344629566225854,0.034310097949058295,0.17725423021639328,1.0,0.06389014450672954,0.04621529478569729,0.05817957350223709,0.03127236879756367,0.0881661139583211,0.17062000233199112,0.026349908871138573,0.1543448348512492,0.06679396458971373,0.05553189631733163,0.029120344249513597,0.01667950450623014,0.06274925836587726,0.0429117184488994,0.006296489555285005,0.06077474442201075,0.08754520335277288,0.03095615558120981,0.042280600811849305,0.008772674205258527,-0.009289506501223857,0.10221605132043023,0.03310270925494346,0.066442927277204,0.05657113729457325,0.045957841913186206,0.058189947950053875,0.05030212998804136,0.03149476145737544,0.018278664692730096,0.016625238607864887,0.0386547410309991,0.0185525366213533],[0.057205961011690905,0.017896050637079698,0.017884930044747123,0.07125781666328246,0.06389014450672954,1.0,0.01227384007925538,0.02878476976168169,0.03580697185686448,0.014565327701289875,0.029154628865539208,0.024846730425836037,0.08933392861926383,0.0314441790812659,0.014085526835370397,0.015094882693241257,0.01198762961257867,0.025421502203869344,0.0045461675879921205,-0.011740567432152535,0.02636454770543647,0.04877238254067276,0.0016211650313574862,0.02481971639497675,0.0043583344481302735,-0.005466538257317871,0.047852415239697965,0.004059876228000673,0.05858364255962667,0.01736886922082777,0.0465605149907635,0.015502094489741946,0.02156639577497141,0.016169962560665087,0.005584107856134688,0.0036398692146957677,0.00930265771314433,0.006633060515547509],[0.04919143898071447,0.08317158492318574,0.015584303969947266,0.1237307421342451,0.04621529478569729,0.01227384007925538,1.0,0.11458816307892238,0.018119908154902904,0.026667719897272218,0.04699012578285035,-0.0047663779598666285,0.11438436035168006,0.02534887018620241,0.028588792888842827,0.00657957862975417,0.0064997531672477855,0.030215622609842254,0.010338527329834733,-0.0002184203590269974,0.023046187915090055,0.022715631766103757,0.017840452243110455,0.03346794699598855,0.0058919145646911236,-0.007445966273654058,0.04727590757388699,0.016903828183834117,0.02572192401835613,0.028911383193802775,0.04316824887912431,0.039139281093792694,0.01728278117428253,0.01418605261121732,0.009605229894347969,0.01974793626247162,0.008000652157434942,0.007529603413935794],[0.06067719222118367,0.06362799323337444,0.009017905690918442,0.13567284182449912,0.05817957350223709,0.02878476976168169,0.11458816307892238,1.0,0.040251014294659715,0.0231283914171326,0.02069565817733062,0.02171734138475032,0.08985032903123298,0.03718691281385115,0.013805871239984663,0.01177200961084629,0.01429303449639132,0.022154686808473746,-0.008444435760051642,-0.014266960326481054,0.013707804187851282,0.020427040157512944,0.014117585944134687,0.024392518298130914,0.002921869404044176,-0.0030757230578392926,0.040914000150524786,0.013516047804381077,0.030405883831498677,0.029567045803987734,0.06809094646478915,0.023367065031483114,0.032484001584565804,0.03535994956850387,0.0004366427078354236,0.012679173513126451,0.004807810986002497,0.006794710368319373],[0.03555979760623909,0.03949522327610009,0.008740529889529967,0.02194954962680859,0.03127236879756367,0.03580697185686448,0.018119908154902904,0.040251014294659715,1.0,0.021211391557087535,0.020795066555046315,0.026681151981930218,0.03919969257473861,0.04300126023148435,0.022946828506632988,0.001656693042872936,0.012106353890310662,0.05377179621994594,0.018302507807486865,-0.0027215354825443254,0.05932234681471192,0.031039966507400197,0.019580483001678393,0.02131349158888259,0.002440972256141925,0.00047070026022852097,0.06531842015561962,0.0111504166446658,0.03689548403258698,0.03478287671143654,0.10065657865454863,0.05630571212079827,0.036269881655234384,0.04491232133959925,0.014343596183401905,0.013070182257489437,0.025065823746410948,0.019727344057420687],[0.04304278532386802,0.061492119360556895,0.003856231899378067,0.040710404411280446,0.0881661139583211,0.014565327701289875,0.026667719897272218,0.0231283914171326,0.021211391557087535,1.0,0.028594918816119034,-0.0022373092351252095,0.021860666780809616,0.07032985408590359,0.03097796693228106,0.024073209092089938,0.03409762491479823,0.04060877012587676,-0.0021446529695136546,-0.01071851674283185,0.020302439692775624,0.04352047007968442,0.01509825509416471,0.030263883080616123,-0.0008653052965750376,-0.006730266095054316,0.0746656218977512,0.024923534719079193,0.07958259356097036,0.054262089198482355,0.0999949963073524,0.045565467633159315,0.0751408416932004,0.06697842856620662,0.006188309811076355,0.00820281898639859,0.015953823068233487,0.014749448850253675],[0.002158070981271044,-0.06814652029116365,0.006342736524311423,0.11579642381713182,0.17062000233199112,0.029154628865539208,0.04699012578285035,0.02069565817733062,0.020795066555046315,0.028594918816119034,1.0,0.0027310643199383805,0.1221742390162747,0.024992360746537646,0.031384108970026484,0.012767820277529226,0.0027600099774632613,0.0320700838923663,-0.000852261621942227,-0.00856296646092731,0.03054151216570394,0.08562646545129121,0.010212712328558068,0.028003030962317942,0.0157735673669133,-0.003648918419971552,0.058406288248625836,-0.009476451233122877,0.07319413124862457,0.014776137258436869,-0.01196075115894397,0.021992435584395006,0.007038777313886524,0.0025003932717775033,4.509361348341819e-05,-0.002453736246723593,0.008639023323449548,0.013326234740839915],[-0.0004497886531845801,-0.00960525440488125,-0.00962692704058636,0.03161129204796136,0.026349908871138573,0.024846730425836037,-0.0047663779598666285,0.02171734138475032,0.026681151981930218,-0.0022373092351252095,0.0027310643199383805,1.0,0.04692955112104725,0.010780432856331212,0.007973265700080742,-0.0006004829226388825,-0.004208287983006666,0.017111844155596124,0.03064501017204512,-0.003689622904388729,0.03171821086357638,0.0259743880335538,0.009152598200828269,0.02375662801950122,0.0010627076778419336,-0.0043630350280567725,0.02513817258127961,0.006528803494908732,0.019730394284104207,0.0010735039860335185,0.0213677167030801,0.014916456859471176,0.016578962175635682,0.032151735668372636,0.0015115218462881405,0.006447221508821205,0.003932828641830953,0.005414464425303271],[0.03957430652487597,0.003887159704350916,0.01538948334272586,0.16547142801299003,0.1543448348512492,0.08933392861926383,0.11438436035168006,0.08985032903123298,0.03919969257473861,0.021860666780809616,0.1221742390162747,0.04692955112104725,1.0,0.023054384864491403,0.0850542923126061,0.02917359125631654,0.007570450658432022,0.1214609841339135,0.028049598423214625,-0.010454841390710559,0.12221347245235123,0.09932556786457397,0.03970278053198326,0.026712910010140346,0.0038708810488996396,-0.0014409453871008788,0.1682920791221839,0.01800349012953127,0.05321881779929901,0.03059706005766082,0.027999353021179535,0.07366591080317197,0.03422284471111337,0.05232042125185033,0.051175293961009595,0.03354538906020805,0.06110045607914882,0.0869639583689395],[0.02342635911809623,0.10566773865658215,0.03083317630646359,0.03830235336253926,0.06679396458971373,0.0314441790812659,0.02534887018620241,0.03718691281385115,0.04300126023148435,0.07032985408590359,0.024992360746537646,0.010780432856331212,0.023054384864491403,1.0,0.07797344567606636,0.13555605255598732,0.0646772137207064,0.09431777672911149,0.029978571873796322,-0.008316990582119549,0.07796517579073102,0.0905810365000068,0.041059008983645034,0.04966329570678958,-0.0018216590935259246,-0.010883987210361285,0.18672977675198504,0.09059424911981591,0.08973420078317346,0.13874062781461713,0.14911914903505474,0.12254461528849232,0.07410079804204196,0.06251114389233027,0.06639160467478492,0.0751615838680419,0.06369884461520338,0.037123993386250824],[-0.005784677209342095,0.028807459398499664,-0.00270470966370874,0.043857288882971274,0.05553189631733163,0.014085526835370397,0.028588792888842827,0.013805871239984663,0.022946828506632988,0.03097796693228106,0.031384108970026484,0.007973265700080742,0.0850542923126061,0.07797344567606636,1.0,0.09879026846288606,0.0296234314369631,0.313187034379423,0.055753523415116225,-0.0010448412529638251,0.12958731808829085,0.13603364103107934,0.05660995539834375,0.05347383519953646,0.00640020087962804,0.010298041412932762,0.2628450835702854,0.0476729004547175,0.11598999232102596,0.04795631788060002,0.03734493887082566,0.10206051069031676,0.04182833113710044,0.04157102797386726,0.13054950905410712,0.10087048844636784,0.16200361677367997,0.1757200275587994],[0.04405287238298116,0.04879043175267243,0.017076961448508374,0.030369336522929006,0.029120344249513597,0.015094882693241257,0.00657957862975417,0.01177200961084629,0.001656693042872936,0.024073209092089938,0.012767820277529226,-0.0006004829226388825,0.02917359125631654,0.13555605255598732,0.09879026846288606,1.0,0.05512176756967928,0.06984261207916752,0.024640849882919983,-0.01171319560806112,0.053629920955620525,0.0738458076394151,0.025912472472263973,0.000597598662764767,-0.0028506565578937898,-0.013257890743166701,0.10990953985288111,0.0357780897944623,0.07120922821786745,0.0382782706875146,0.02171183704779364,0.049764917074669006,0.025037001414893092,0.022392231462673474,0.05238107052408047,0.036833318055489665,0.07026321406465082,0.034440535538244846],[0.048083103644023836,0.02905938427659258,0.006867172548282764,0.008799647010686884,0.01667950450623014,0.01198762961257867,0.0064997531672477855,0.01429303449639132,0.012106353890310662,0.03409762491479823,0.0027600099774632613,-0.004208287983006666,0.007570450658432022,0.0646772137207064,0.0296234314369631,0.05512176756967928,1.0,0.02285771468543242,-0.007831302187869859,-0.017945709496928235,0.005766114782220054,0.028762722352284453,0.005914459104304067,0.0017597762723511523,-0.009222189244902769,-0.009272170923525183,0.05694084774229495,0.013070864148710835,0.02282786055658363,0.04492862771181019,0.0314249156054111,0.03894037752730205,0.0380441813641178,0.03524595135055557,0.005164720195321027,0.0034061683400903853,0.013186936591789707,0.0041685392280817165],[0.012789991078647164,0.03877625666121272,-0.0006017003970389356,0.06205010244474374,0.06274925836587726,0.025421502203869344,0.030215622609842254,0.022154686808473746,0.05377179621994594,0.04060877012587676,0.0320700838923663,0.017111844155596124,0.1214609841339135,0.09431777672911149,0.313187034379423,0.06984261207916752,0.02285771468543242,1.0,0.08034892337832478,0.004953975867650024,0.15812542127190538,0.16532509977184032,0.04642404917779782,0.029426573149350863,0.0048559565111325675,0.005673517240114907,0.346426161178883,0.08997905654211512,0.11326961586575536,0.07603311048976774,0.05352800559856225,0.1795082968196774,0.06359764703910775,0.07688795012227158,0.157012914485634,0.08202780594097976,0.1961922030504835,0.19187903325216207],[0.0007151641919278923,0.012709653837235891,0.022064009368572397,0.00981615684106897,0.0429117184488994,0.0045461675879921205,0.010338527329834733,-0.008444435760051642,0.018302507807486865,-0.0021446529695136546,-0.000852261621942227,0.03064501017204512,0.028049598423214625,0.029978571873796322,0.055753523415116225,0.024640849882919983,-0.007831302187869859,0.08034892337832478,1.0,0.41772809379535114,0.15989104946192942,0.09239269514476146,0.03060471446644814,0.038770384050934456,0.017108554893098944,-0.0003292729395813389,0.08320438114376535,0.03576555971356718,0.02728077473076477,0.01258205280838108,0.009692245598130882,0.040616755661232185,-0.0064130344379738375,-0.001429423762029019,0.04625185814336904,0.03880951553059147,0.03342590785233653,0.03442949611746737],[-0.039672891498651115,-0.015219191086464716,0.007842545991397776,-0.01108245928579107,0.006296489555285005,-0.011740567432152535,-0.0002184203590269974,-0.014266960326481054,-0.0027215354825443254,-0.01071851674283185,-0.00856296646092731,-0.003689622904388729,-0.010454841390710559,-0.008316990582119549,-0.0010448412529638251,-0.01171319560806112,-0.017945709496928235,0.004953975867650024,0.41772809379535114,1.0,0.0444052959068816,0.022358151234630474,-0.000653612010991446,0.0032437958847593615,-0.0008663453279497002,-0.0022680521911911757,0.008486865167968614,-0.0018412813235980624,-0.004623493699746898,-0.013902587282529154,-0.013834592566352109,0.005159743743226174,-0.020019256254474177,-0.015961025286151124,0.0021247472028779408,0.0018066551034483216,-0.009104753773667944,-0.002850639396026114],[0.011654498677240934,0.04704671435197421,0.030807495374633086,0.05402485729506045,0.06077474442201075,0.02636454770543647,0.023046187915090055,0.013707804187851282,0.05932234681471192,0.020302439692775624,0.03054151216570394,0.03171821086357638,0.12221347245235123,0.07796517579073102,0.12958731808829085,0.053629920955620525,0.005766114782220054,0.15812542127190538,0.15989104946192942,0.0444052959068816,1.0,0.22615429038556337,0.07336487554947706,0.04616679935479635,0.022788231272468415,0.005007661519463818,0.22651223944999688,0.048496620898741745,0.07858575079464256,0.05755457322281875,0.08232410426907728,0.12251946279979158,0.040184828146788046,0.042134713936297814,0.10492547648543686,0.08149411004962376,0.08086810821331221,0.09821275079594118],[0.0466230583883804,0.027085319807067944,0.01877407617575466,0.08146195677737693,0.08754520335277288,0.04877238254067276,0.022715631766103757,0.020427040157512944,0.031039966507400197,0.04352047007968442,0.08562646545129121,0.0259743880335538,0.09932556786457397,0.0905810365000068,0.13603364103107934,0.0738458076394151,0.028762722352284453,0.16532509977184032,0.09239269514476146,0.022358151234630474,0.22615429038556337,1.0,0.047275093073671295,0.02807057280347398,0.02385933863020805,0.004049380150301749,0.1780756443752687,0.052154417678537256,0.1448574532307905,0.06883126085353056,0.028940388522039843,0.08050242807545466,0.022382165908917284,0.019883654293589646,0.09609030214128474,0.07520851400841139,0.06713679106832197,0.06796636182700337],[-0.015515799521346706,0.025491672394651763,-0.0027410700386397337,0.02570807127721403,0.03095615558120981,0.0016211650313574862,0.017840452243110455,0.014117585944134687,0.019580483001678393,0.01509825509416471,0.010212712328558068,0.009152598200828269,0.03970278053198326,0.041059008983645034,0.05660995539834375,0.025912472472263973,0.005914459104304067,0.04642404917779782,0.03060471446644814,-0.000653612010991446,0.07336487554947706,0.047275093073671295,1.0,0.1549985002415476,0.3292265216948967,0.19441862526037748,0.07506316380068236,0.019085545651327574,0.02040151349804148,0.011407721534384126,0.017917684252266513,0.04465261345538746,0.007102425159436342,0.009668543856581696,0.10233083225903175,0.10365333607427425,0.05212853161313604,0.036420371907535144],[0.018492556345243605,0.03549095776303025,0.008030906262186194,0.051468481690684055,0.042280600811849305,0.02481971639497675,0.03346794699598855,0.024392518298130914,0.02131349158888259,0.030263883080616123,0.028003030962317942,0.02375662801950122,0.026712910010140346,0.04966329570678958,0.05347383519953646,0.000597598662764767,0.0017597762723511523,0.029426573149350863,0.038770384050934456,0.0032437958847593615,0.04616679935479635,0.02807057280347398,0.1549985002415476,1.0,0.13635973446129213,0.08344009599843984,0.05800398705230756,0.03411951212727829,0.016836766941027582,0.07331728375981267,0.0831387290017696,0.06231605916203545,0.0045982275957313365,-0.0008852305012954333,0.01956957833632031,0.023522680867880563,0.013150835576472515,0.023221586679267714],[-0.009157683517325588,-0.007289598454478737,0.0027654668614397453,0.007494876083817297,0.008772674205258527,0.0043583344481302735,0.0058919145646911236,0.002921869404044176,0.002440972256141925,-0.0008653052965750376,0.0157735673669133,0.0010627076778419336,0.0038708810488996396,-0.0018216590935259246,0.00640020087962804,-0.0028506565578937898,-0.009222189244902769,0.0048559565111325675,0.017108554893098944,-0.0008663453279497002,0.022788231272468415,0.02385933863020805,0.3292265216948967,0.13635973446129213,1.0,0.20164793116133653,0.009234203380290405,-0.0002690893831371123,0.006384876319138159,-0.00687196766509705,0.0001068180189679901,0.00804161504944811,-0.004034113573550991,-0.001167082580764607,0.0363734264161189,0.055255759218304654,0.0015838241164301942,0.009976823667840744],[-0.02658863198359859,-0.02023877773996743,-0.007647337834145122,0.0019626050417318134,-0.009289506501223857,-0.005466538257317871,-0.007445966273654058,-0.0030757230578392926,0.00047070026022852097,-0.006730266095054316,-0.003648918419971552,-0.0043630350280567725,-0.0014409453871008788,-0.010883987210361285,0.010298041412932762,-0.013257890743166701,-0.009272170923525183,0.005673517240114907,-0.0003292729395813389,-0.0022680521911911757,0.005007661519463818,0.004049380150301749,0.19441862526037748,0.08344009599843984,0.20164793116133653,1.0,-0.0013171997512474547,-0.006672979682982077,0.0032834557180008816,-0.020813230156640404,-0.017098666356661834,0.00013602367041258047,-0.010350390075351155,-0.011333215634088964,0.0052436334004286505,0.017330455656745118,-0.0007651747557923028,0.011374311619277206],[0.061116568173391866,0.08908108466863575,0.015813399858773353,0.09649162494219657,0.10221605132043023,0.047852415239697965,0.04727590757388699,0.040914000150524786,0.06531842015561962,0.0746656218977512,0.058406288248625836,0.02513817258127961,0.1682920791221839,0.18672977675198504,0.2628450835702854,0.10990953985288111,0.05694084774229495,0.346426161178883,0.08320438114376535,0.008486865167968614,0.22651223944999688,0.1780756443752687,0.07506316380068236,0.05800398705230756,0.009234203380290405,-0.0013171997512474547,1.0,0.1203300058626553,0.2417050800581031,0.16237008995269242,0.12686402197659286,0.2585149129960648,0.12903144707818404,0.1272493097211087,0.19474049248170583,0.13013157906981754,0.20130047350104277,0.24512424439513503],[-0.03183866361761928,0.050017494612016794,0.010369113673997656,0.022963418590475744,0.03310270925494346,0.004059876228000673,0.016903828183834117,0.013516047804381077,0.0111504166446658,0.024923534719079193,-0.009476451233122877,0.006528803494908732,0.01800349012953127,0.09059424911981591,0.0476729004547175,0.0357780897944623,0.013070864148710835,0.08997905654211512,0.03576555971356718,-0.0018412813235980624,0.048496620898741745,0.052154417678537256,0.019085545651327574,0.03411951212727829,-0.0002690893831371123,-0.006672979682982077,0.1203300058626553,1.0,0.017854458224080383,0.0787869117929816,0.097718039505421,0.08647606830004065,0.030369560509910586,0.0341633738899264,0.04507870554525832,0.03777972519305511,0.04018699290981505,0.03102392981923123],[0.029692523233829492,0.03219040777018964,-0.006381632593823678,0.07020530953523872,0.066442927277204,0.05858364255962667,0.02572192401835613,0.030405883831498677,0.03689548403258698,0.07958259356097036,0.07319413124862457,0.019730394284104207,0.05321881779929901,0.08973420078317346,0.11598999232102596,0.07120922821786745,0.02282786055658363,0.11326961586575536,0.02728077473076477,-0.004623493699746898,0.07858575079464256,0.1448574532307905,0.02040151349804148,0.016836766941027582,0.006384876319138159,0.0032834557180008816,0.2417050800581031,0.017854458224080383,1.0,0.06405909960042354,0.05463958378541679,0.08041598248988927,0.057403642575437154,0.06432498295074962,0.04112284244784253,0.02763322625554368,0.05977058584254338,0.07913647959056853],[0.06248946287062163,0.050795558114847206,0.009026874106711599,0.06118481433973301,0.05657113729457325,0.01736886922082777,0.028911383193802775,0.029567045803987734,0.03478287671143654,0.054262089198482355,0.014776137258436869,0.0010735039860335185,0.03059706005766082,0.13874062781461713,0.04795631788060002,0.0382782706875146,0.04492862771181019,0.07603311048976774,0.01258205280838108,-0.013902587282529154,0.05755457322281875,0.06883126085353056,0.011407721534384126,0.07331728375981267,-0.00687196766509705,-0.020813230156640404,0.16237008995269242,0.0787869117929816,0.06405909960042354,1.0,0.15483858477732254,0.12479605758827382,0.09127950968551336,0.08279094617807846,0.044994245668184996,0.03482925488329812,0.05594797165428265,0.06412312078664274],[0.057355501795335134,0.131838859278728,0.020049685823873137,0.06258192615259978,0.045957841913186206,0.0465605149907635,0.04316824887912431,0.06809094646478915,0.10065657865454863,0.0999949963073524,-0.01196075115894397,0.0213677167030801,0.027999353021179535,0.14911914903505474,0.03734493887082566,0.02171183704779364,0.0314249156054111,0.05352800559856225,0.009692245598130882,-0.013834592566352109,0.08232410426907728,0.028940388522039843,0.017917684252266513,0.0831387290017696,0.0001068180189679901,-0.017098666356661834,0.12686402197659286,0.097718039505421,0.05463958378541679,0.15483858477732254,1.0,0.15591691371278465,0.1366224819755666,0.11723865086160495,0.008716948453540404,0.019889337354206213,0.03045229222665443,0.014600454662745047],[0.016463152877159826,0.045861617151319235,0.003550380042365407,0.06373900060926262,0.058189947950053875,0.015502094489741946,0.039139281093792694,0.023367065031483114,0.05630571212079827,0.045565467633159315,0.021992435584395006,0.014916456859471176,0.07366591080317197,0.12254461528849232,0.10206051069031676,0.049764917074669006,0.03894037752730205,0.1795082968196774,0.040616755661232185,0.005159743743226174,0.12251946279979158,0.08050242807545466,0.04465261345538746,0.06231605916203545,0.00804161504944811,0.00013602367041258047,0.2585149129960648,0.08647606830004065,0.08041598248988927,0.12479605758827382,0.15591691371278465,1.0,0.11063863049293621,0.08694307035402833,0.08210292604132788,0.053958352495991124,0.06952827602588467,0.09154586349219897],[0.08479277688284256,0.02492219622469262,0.0016799229883645466,0.026349684958030344,0.05030212998804136,0.02156639577497141,0.01728278117428253,0.032484001584565804,0.036269881655234384,0.0751408416932004,0.007038777313886524,0.016578962175635682,0.03422284471111337,0.07410079804204196,0.04182833113710044,0.025037001414893092,0.0380441813641178,0.06359764703910775,-0.0064130344379738375,-0.020019256254474177,0.040184828146788046,0.022382165908917284,0.007102425159436342,0.0045982275957313365,-0.004034113573550991,-0.010350390075351155,0.12903144707818404,0.030369560509910586,0.057403642575437154,0.09127950968551336,0.1366224819755666,0.11063863049293621,1.0,0.3941900415944224,0.026326965390273103,0.02100198974411632,0.028502404824649066,0.044113312221755054],[0.049231475623502816,0.027687233187355324,-0.0034360796930379893,0.024709601451266987,0.03149476145737544,0.016169962560665087,0.01418605261121732,0.03535994956850387,0.04491232133959925,0.06697842856620662,0.0025003932717775033,0.032151735668372636,0.05232042125185033,0.06251114389233027,0.04157102797386726,0.022392231462673474,0.03524595135055557,0.07688795012227158,-0.001429423762029019,-0.015961025286151124,0.042134713936297814,0.019883654293589646,0.009668543856581696,-0.0008852305012954333,-0.001167082580764607,-0.011333215634088964,0.1272493097211087,0.0341633738899264,0.06432498295074962,0.08279094617807846,0.11723865086160495,0.08694307035402833,0.3941900415944224,1.0,0.029518791394013526,0.02483709845756799,0.034938853951020615,0.05471016455608097],[0.002060999875297881,0.006713000088737597,0.007454989755184092,0.015564386316775035,0.018278664692730096,0.005584107856134688,0.009605229894347969,0.0004366427078354236,0.014343596183401905,0.006188309811076355,4.509361348341819e-05,0.0015115218462881405,0.051175293961009595,0.06639160467478492,0.13054950905410712,0.05238107052408047,0.005164720195321027,0.157012914485634,0.04625185814336904,0.0021247472028779408,0.10492547648543686,0.09609030214128474,0.10233083225903175,0.01956957833632031,0.0363734264161189,0.0052436334004286505,0.19474049248170583,0.04507870554525832,0.04112284244784253,0.044994245668184996,0.008716948453540404,0.08210292604132788,0.026326965390273103,0.029518791394013526,1.0,0.1782027040839922,0.11226969898958228,0.1559967238120855],[-0.005613570976448685,0.033382232229966745,0.015306506861470124,0.01580389972342165,0.016625238607864887,0.0036398692146957677,0.01974793626247162,0.012679173513126451,0.013070182257489437,0.00820281898639859,-0.002453736246723593,0.006447221508821205,0.03354538906020805,0.0751615838680419,0.10087048844636784,0.036833318055489665,0.0034061683400903853,0.08202780594097976,0.03880951553059147,0.0018066551034483216,0.08149411004962376,0.07520851400841139,0.10365333607427425,0.023522680867880563,0.055255759218304654,0.017330455656745118,0.13013157906981754,0.03777972519305511,0.02763322625554368,0.03482925488329812,0.019889337354206213,0.053958352495991124,0.02100198974411632,0.02483709845756799,0.1782027040839922,1.0,0.07752288249948831,0.07302255690236467],[-0.019145193900534024,0.026874826410927623,0.011267637194100108,0.021651256668298705,0.0386547410309991,0.00930265771314433,0.008000652157434942,0.004807810986002497,0.025065823746410948,0.015953823068233487,0.008639023323449548,0.003932828641830953,0.06110045607914882,0.06369884461520338,0.16200361677367997,0.07026321406465082,0.013186936591789707,0.1961922030504835,0.03342590785233653,-0.009104753773667944,0.08086810821331221,0.06713679106832197,0.05212853161313604,0.013150835576472515,0.0015838241164301942,-0.0007651747557923028,0.20130047350104277,0.04018699290981505,0.05977058584254338,0.05594797165428265,0.03045229222665443,0.06952827602588467,0.028502404824649066,0.034938853951020615,0.11226969898958228,0.07752288249948831,1.0,0.16588129583165562],[0.022508140857355283,0.005430478895835646,-0.007160355548674097,0.01891771943751168,0.0185525366213533,0.006633060515547509,0.007529603413935794,0.006794710368319373,0.019727344057420687,0.014749448850253675,0.013326234740839915,0.005414464425303271,0.0869639583689395,0.037123993386250824,0.1757200275587994,0.034440535538244846,0.0041685392280817165,0.19187903325216207,0.03442949611746737,-0.002850639396026114,0.09821275079594118,0.06796636182700337,0.036420371907535144,0.023221586679267714,0.009976823667840744,0.011374311619277206,0.24512424439513503,0.03102392981923123,0.07913647959056853,0.06412312078664274,0.014600454662745047,0.09154586349219897,0.044113312221755054,0.05471016455608097,0.1559967238120855,0.07302255690236467,0.16588129583165562,1.0]],\"type\":\"heatmap\",\"xaxis\":\"x\",\"yaxis\":\"y\",\"hovertemplate\":\"x: %{x}\\u003cbr\\u003ey: %{y}\\u003cbr\\u003ecolor: %{z}\\u003cextra\\u003e\\u003c\\u002fextra\\u003e\"}],                        {\"template\":{\"data\":{\"histogram2dcontour\":[{\"type\":\"histogram2dcontour\",\"colorbar\":{\"outlinewidth\":0,\"ticks\":\"\"},\"colorscale\":[[0.0,\"#0d0887\"],[0.1111111111111111,\"#46039f\"],[0.2222222222222222,\"#7201a8\"],[0.3333333333333333,\"#9c179e\"],[0.4444444444444444,\"#bd3786\"],[0.5555555555555556,\"#d8576b\"],[0.6666666666666666,\"#ed7953\"],[0.7777777777777778,\"#fb9f3a\"],[0.8888888888888888,\"#fdca26\"],[1.0,\"#f0f921\"]]}],\"choropleth\":[{\"type\":\"choropleth\",\"colorbar\":{\"outlinewidth\":0,\"ticks\":\"\"}}],\"histogram2d\":[{\"type\":\"histogram2d\",\"colorbar\":{\"outlinewidth\":0,\"ticks\":\"\"},\"colorscale\":[[0.0,\"#0d0887\"],[0.1111111111111111,\"#46039f\"],[0.2222222222222222,\"#7201a8\"],[0.3333333333333333,\"#9c179e\"],[0.4444444444444444,\"#bd3786\"],[0.5555555555555556,\"#d8576b\"],[0.6666666666666666,\"#ed7953\"],[0.7777777777777778,\"#fb9f3a\"],[0.8888888888888888,\"#fdca26\"],[1.0,\"#f0f921\"]]}],\"heatmap\":[{\"type\":\"heatmap\",\"colorbar\":{\"outlinewidth\":0,\"ticks\":\"\"},\"colorscale\":[[0.0,\"#0d0887\"],[0.1111111111111111,\"#46039f\"],[0.2222222222222222,\"#7201a8\"],[0.3333333333333333,\"#9c179e\"],[0.4444444444444444,\"#bd3786\"],[0.5555555555555556,\"#d8576b\"],[0.6666666666666666,\"#ed7953\"],[0.7777777777777778,\"#fb9f3a\"],[0.8888888888888888,\"#fdca26\"],[1.0,\"#f0f921\"]]}],\"heatmapgl\":[{\"type\":\"heatmapgl\",\"colorbar\":{\"outlinewidth\":0,\"ticks\":\"\"},\"colorscale\":[[0.0,\"#0d0887\"],[0.1111111111111111,\"#46039f\"],[0.2222222222222222,\"#7201a8\"],[0.3333333333333333,\"#9c179e\"],[0.4444444444444444,\"#bd3786\"],[0.5555555555555556,\"#d8576b\"],[0.6666666666666666,\"#ed7953\"],[0.7777777777777778,\"#fb9f3a\"],[0.8888888888888888,\"#fdca26\"],[1.0,\"#f0f921\"]]}],\"contourcarpet\":[{\"type\":\"contourcarpet\",\"colorbar\":{\"outlinewidth\":0,\"ticks\":\"\"}}],\"contour\":[{\"type\":\"contour\",\"colorbar\":{\"outlinewidth\":0,\"ticks\":\"\"},\"colorscale\":[[0.0,\"#0d0887\"],[0.1111111111111111,\"#46039f\"],[0.2222222222222222,\"#7201a8\"],[0.3333333333333333,\"#9c179e\"],[0.4444444444444444,\"#bd3786\"],[0.5555555555555556,\"#d8576b\"],[0.6666666666666666,\"#ed7953\"],[0.7777777777777778,\"#fb9f3a\"],[0.8888888888888888,\"#fdca26\"],[1.0,\"#f0f921\"]]}],\"surface\":[{\"type\":\"surface\",\"colorbar\":{\"outlinewidth\":0,\"ticks\":\"\"},\"colorscale\":[[0.0,\"#0d0887\"],[0.1111111111111111,\"#46039f\"],[0.2222222222222222,\"#7201a8\"],[0.3333333333333333,\"#9c179e\"],[0.4444444444444444,\"#bd3786\"],[0.5555555555555556,\"#d8576b\"],[0.6666666666666666,\"#ed7953\"],[0.7777777777777778,\"#fb9f3a\"],[0.8888888888888888,\"#fdca26\"],[1.0,\"#f0f921\"]]}],\"mesh3d\":[{\"type\":\"mesh3d\",\"colorbar\":{\"outlinewidth\":0,\"ticks\":\"\"}}],\"scatter\":[{\"fillpattern\":{\"fillmode\":\"overlay\",\"size\":10,\"solidity\":0.2},\"type\":\"scatter\"}],\"parcoords\":[{\"type\":\"parcoords\",\"line\":{\"colorbar\":{\"outlinewidth\":0,\"ticks\":\"\"}}}],\"scatterpolargl\":[{\"type\":\"scatterpolargl\",\"marker\":{\"colorbar\":{\"outlinewidth\":0,\"ticks\":\"\"}}}],\"bar\":[{\"error_x\":{\"color\":\"#2a3f5f\"},\"error_y\":{\"color\":\"#2a3f5f\"},\"marker\":{\"line\":{\"color\":\"#E5ECF6\",\"width\":0.5},\"pattern\":{\"fillmode\":\"overlay\",\"size\":10,\"solidity\":0.2}},\"type\":\"bar\"}],\"scattergeo\":[{\"type\":\"scattergeo\",\"marker\":{\"colorbar\":{\"outlinewidth\":0,\"ticks\":\"\"}}}],\"scatterpolar\":[{\"type\":\"scatterpolar\",\"marker\":{\"colorbar\":{\"outlinewidth\":0,\"ticks\":\"\"}}}],\"histogram\":[{\"marker\":{\"pattern\":{\"fillmode\":\"overlay\",\"size\":10,\"solidity\":0.2}},\"type\":\"histogram\"}],\"scattergl\":[{\"type\":\"scattergl\",\"marker\":{\"colorbar\":{\"outlinewidth\":0,\"ticks\":\"\"}}}],\"scatter3d\":[{\"type\":\"scatter3d\",\"line\":{\"colorbar\":{\"outlinewidth\":0,\"ticks\":\"\"}},\"marker\":{\"colorbar\":{\"outlinewidth\":0,\"ticks\":\"\"}}}],\"scattermapbox\":[{\"type\":\"scattermapbox\",\"marker\":{\"colorbar\":{\"outlinewidth\":0,\"ticks\":\"\"}}}],\"scatterternary\":[{\"type\":\"scatterternary\",\"marker\":{\"colorbar\":{\"outlinewidth\":0,\"ticks\":\"\"}}}],\"scattercarpet\":[{\"type\":\"scattercarpet\",\"marker\":{\"colorbar\":{\"outlinewidth\":0,\"ticks\":\"\"}}}],\"carpet\":[{\"aaxis\":{\"endlinecolor\":\"#2a3f5f\",\"gridcolor\":\"white\",\"linecolor\":\"white\",\"minorgridcolor\":\"white\",\"startlinecolor\":\"#2a3f5f\"},\"baxis\":{\"endlinecolor\":\"#2a3f5f\",\"gridcolor\":\"white\",\"linecolor\":\"white\",\"minorgridcolor\":\"white\",\"startlinecolor\":\"#2a3f5f\"},\"type\":\"carpet\"}],\"table\":[{\"cells\":{\"fill\":{\"color\":\"#EBF0F8\"},\"line\":{\"color\":\"white\"}},\"header\":{\"fill\":{\"color\":\"#C8D4E3\"},\"line\":{\"color\":\"white\"}},\"type\":\"table\"}],\"barpolar\":[{\"marker\":{\"line\":{\"color\":\"#E5ECF6\",\"width\":0.5},\"pattern\":{\"fillmode\":\"overlay\",\"size\":10,\"solidity\":0.2}},\"type\":\"barpolar\"}],\"pie\":[{\"automargin\":true,\"type\":\"pie\"}]},\"layout\":{\"autotypenumbers\":\"strict\",\"colorway\":[\"#636efa\",\"#EF553B\",\"#00cc96\",\"#ab63fa\",\"#FFA15A\",\"#19d3f3\",\"#FF6692\",\"#B6E880\",\"#FF97FF\",\"#FECB52\"],\"font\":{\"color\":\"#2a3f5f\"},\"hovermode\":\"closest\",\"hoverlabel\":{\"align\":\"left\"},\"paper_bgcolor\":\"white\",\"plot_bgcolor\":\"#E5ECF6\",\"polar\":{\"bgcolor\":\"#E5ECF6\",\"angularaxis\":{\"gridcolor\":\"white\",\"linecolor\":\"white\",\"ticks\":\"\"},\"radialaxis\":{\"gridcolor\":\"white\",\"linecolor\":\"white\",\"ticks\":\"\"}},\"ternary\":{\"bgcolor\":\"#E5ECF6\",\"aaxis\":{\"gridcolor\":\"white\",\"linecolor\":\"white\",\"ticks\":\"\"},\"baxis\":{\"gridcolor\":\"white\",\"linecolor\":\"white\",\"ticks\":\"\"},\"caxis\":{\"gridcolor\":\"white\",\"linecolor\":\"white\",\"ticks\":\"\"}},\"coloraxis\":{\"colorbar\":{\"outlinewidth\":0,\"ticks\":\"\"}},\"colorscale\":{\"sequential\":[[0.0,\"#0d0887\"],[0.1111111111111111,\"#46039f\"],[0.2222222222222222,\"#7201a8\"],[0.3333333333333333,\"#9c179e\"],[0.4444444444444444,\"#bd3786\"],[0.5555555555555556,\"#d8576b\"],[0.6666666666666666,\"#ed7953\"],[0.7777777777777778,\"#fb9f3a\"],[0.8888888888888888,\"#fdca26\"],[1.0,\"#f0f921\"]],\"sequentialminus\":[[0.0,\"#0d0887\"],[0.1111111111111111,\"#46039f\"],[0.2222222222222222,\"#7201a8\"],[0.3333333333333333,\"#9c179e\"],[0.4444444444444444,\"#bd3786\"],[0.5555555555555556,\"#d8576b\"],[0.6666666666666666,\"#ed7953\"],[0.7777777777777778,\"#fb9f3a\"],[0.8888888888888888,\"#fdca26\"],[1.0,\"#f0f921\"]],\"diverging\":[[0,\"#8e0152\"],[0.1,\"#c51b7d\"],[0.2,\"#de77ae\"],[0.3,\"#f1b6da\"],[0.4,\"#fde0ef\"],[0.5,\"#f7f7f7\"],[0.6,\"#e6f5d0\"],[0.7,\"#b8e186\"],[0.8,\"#7fbc41\"],[0.9,\"#4d9221\"],[1,\"#276419\"]]},\"xaxis\":{\"gridcolor\":\"white\",\"linecolor\":\"white\",\"ticks\":\"\",\"title\":{\"standoff\":15},\"zerolinecolor\":\"white\",\"automargin\":true,\"zerolinewidth\":2},\"yaxis\":{\"gridcolor\":\"white\",\"linecolor\":\"white\",\"ticks\":\"\",\"title\":{\"standoff\":15},\"zerolinecolor\":\"white\",\"automargin\":true,\"zerolinewidth\":2},\"scene\":{\"xaxis\":{\"backgroundcolor\":\"#E5ECF6\",\"gridcolor\":\"white\",\"linecolor\":\"white\",\"showbackground\":true,\"ticks\":\"\",\"zerolinecolor\":\"white\",\"gridwidth\":2},\"yaxis\":{\"backgroundcolor\":\"#E5ECF6\",\"gridcolor\":\"white\",\"linecolor\":\"white\",\"showbackground\":true,\"ticks\":\"\",\"zerolinecolor\":\"white\",\"gridwidth\":2},\"zaxis\":{\"backgroundcolor\":\"#E5ECF6\",\"gridcolor\":\"white\",\"linecolor\":\"white\",\"showbackground\":true,\"ticks\":\"\",\"zerolinecolor\":\"white\",\"gridwidth\":2}},\"shapedefaults\":{\"line\":{\"color\":\"#2a3f5f\"}},\"annotationdefaults\":{\"arrowcolor\":\"#2a3f5f\",\"arrowhead\":0,\"arrowwidth\":1},\"geo\":{\"bgcolor\":\"white\",\"landcolor\":\"#E5ECF6\",\"subunitcolor\":\"white\",\"showland\":true,\"showlakes\":true,\"lakecolor\":\"white\"},\"title\":{\"x\":0.05},\"mapbox\":{\"style\":\"light\"}}},\"xaxis\":{\"anchor\":\"y\",\"domain\":[0.0,1.0],\"scaleanchor\":\"y\",\"constrain\":\"domain\"},\"yaxis\":{\"anchor\":\"x\",\"domain\":[0.0,1.0],\"autorange\":\"reversed\",\"constrain\":\"domain\"},\"coloraxis\":{\"colorscale\":[[0.0,\"rgb(103,0,31)\"],[0.1,\"rgb(178,24,43)\"],[0.2,\"rgb(214,96,77)\"],[0.3,\"rgb(244,165,130)\"],[0.4,\"rgb(253,219,199)\"],[0.5,\"rgb(247,247,247)\"],[0.6,\"rgb(209,229,240)\"],[0.7,\"rgb(146,197,222)\"],[0.8,\"rgb(67,147,195)\"],[0.9,\"rgb(33,102,172)\"],[1.0,\"rgb(5,48,97)\"]]},\"title\":{\"text\":\"Correlation Heatmap\"},\"width\":1200,\"height\":1000},                        {\"responsive\": true}                    ).then(function(){\n",
       "                            \n",
       "var gd = document.getElementById('5c293463-1872-4e7a-9489-640282f559e8');\n",
       "var x = new MutationObserver(function (mutations, observer) {{\n",
       "        var display = window.getComputedStyle(gd).display;\n",
       "        if (!display || display === 'none') {{\n",
       "            console.log([gd, 'removed!']);\n",
       "            Plotly.purge(gd);\n",
       "            observer.disconnect();\n",
       "        }}\n",
       "}});\n",
       "\n",
       "// Listen for the removal of the full notebook cells\n",
       "var notebookContainer = gd.closest('#notebook-container');\n",
       "if (notebookContainer) {{\n",
       "    x.observe(notebookContainer, {childList: true});\n",
       "}}\n",
       "\n",
       "// Listen for the clearing of the current output cell\n",
       "var outputEl = gd.closest('.output');\n",
       "if (outputEl) {{\n",
       "    x.observe(outputEl, {childList: true});\n",
       "}}\n",
       "\n",
       "                        })                };                });            </script>        </div>"
      ]
     },
     "metadata": {},
     "output_type": "display_data"
    }
   ],
   "source": [
    "# Correlation Matrix \n",
    "corr_matrix = cust_data.corr()\n",
    "fig = px.imshow(corr_matrix,\n",
    "                x=corr_matrix.index,\n",
    "                y=corr_matrix.columns,\n",
    "                color_continuous_scale='RdBu',\n",
    "                title='Correlation Heatmap')\n",
    "fig.update_layout(width=1200, height=1000) \n",
    "\n",
    "fig.show()"
   ]
  },
  {
   "cell_type": "markdown",
   "metadata": {},
   "source": [
    "Brands with approximate correlation of 50%\n",
    " - Siemens & Asics\n",
    " - Forever 21 & Hollister\n",
    " - Pladis & Burberry\n",
    " - Compaq & Juniper\n",
    " - Pladis & Diary Queen are correlated "
   ]
  },
  {
   "cell_type": "code",
   "execution_count": 18,
   "metadata": {},
   "outputs": [
    {
     "data": {
      "text/html": [
       "<div>\n",
       "<style scoped>\n",
       "    .dataframe tbody tr th:only-of-type {\n",
       "        vertical-align: middle;\n",
       "    }\n",
       "\n",
       "    .dataframe tbody tr th {\n",
       "        vertical-align: top;\n",
       "    }\n",
       "\n",
       "    .dataframe thead th {\n",
       "        text-align: right;\n",
       "    }\n",
       "</style>\n",
       "<table border=\"1\" class=\"dataframe\">\n",
       "  <thead>\n",
       "    <tr style=\"text-align: right;\">\n",
       "      <th></th>\n",
       "      <th>Cust_ID</th>\n",
       "      <th>Gender</th>\n",
       "      <th>Orders</th>\n",
       "      <th>Jordan</th>\n",
       "      <th>Gatorade</th>\n",
       "      <th>Samsung</th>\n",
       "      <th>Asus</th>\n",
       "      <th>Udis</th>\n",
       "      <th>Mondelez International</th>\n",
       "      <th>Wrangler</th>\n",
       "      <th>...</th>\n",
       "      <th>LG</th>\n",
       "      <th>Dior</th>\n",
       "      <th>Scabal</th>\n",
       "      <th>Tommy Hilfiger</th>\n",
       "      <th>Hollister</th>\n",
       "      <th>Forever 21</th>\n",
       "      <th>Colavita</th>\n",
       "      <th>Microsoft</th>\n",
       "      <th>Jiffy mix</th>\n",
       "      <th>Kraft</th>\n",
       "    </tr>\n",
       "  </thead>\n",
       "  <tbody>\n",
       "    <tr>\n",
       "      <th>0</th>\n",
       "      <td>1</td>\n",
       "      <td>1</td>\n",
       "      <td>7</td>\n",
       "      <td>0</td>\n",
       "      <td>0</td>\n",
       "      <td>0</td>\n",
       "      <td>0</td>\n",
       "      <td>0</td>\n",
       "      <td>0</td>\n",
       "      <td>0</td>\n",
       "      <td>...</td>\n",
       "      <td>0</td>\n",
       "      <td>0</td>\n",
       "      <td>0</td>\n",
       "      <td>0</td>\n",
       "      <td>0</td>\n",
       "      <td>0</td>\n",
       "      <td>0</td>\n",
       "      <td>0</td>\n",
       "      <td>0</td>\n",
       "      <td>0</td>\n",
       "    </tr>\n",
       "    <tr>\n",
       "      <th>1</th>\n",
       "      <td>2</td>\n",
       "      <td>2</td>\n",
       "      <td>0</td>\n",
       "      <td>0</td>\n",
       "      <td>1</td>\n",
       "      <td>0</td>\n",
       "      <td>0</td>\n",
       "      <td>0</td>\n",
       "      <td>0</td>\n",
       "      <td>0</td>\n",
       "      <td>...</td>\n",
       "      <td>0</td>\n",
       "      <td>1</td>\n",
       "      <td>0</td>\n",
       "      <td>0</td>\n",
       "      <td>0</td>\n",
       "      <td>0</td>\n",
       "      <td>0</td>\n",
       "      <td>0</td>\n",
       "      <td>0</td>\n",
       "      <td>0</td>\n",
       "    </tr>\n",
       "    <tr>\n",
       "      <th>2</th>\n",
       "      <td>3</td>\n",
       "      <td>1</td>\n",
       "      <td>7</td>\n",
       "      <td>0</td>\n",
       "      <td>1</td>\n",
       "      <td>0</td>\n",
       "      <td>0</td>\n",
       "      <td>0</td>\n",
       "      <td>0</td>\n",
       "      <td>0</td>\n",
       "      <td>...</td>\n",
       "      <td>0</td>\n",
       "      <td>0</td>\n",
       "      <td>0</td>\n",
       "      <td>0</td>\n",
       "      <td>0</td>\n",
       "      <td>0</td>\n",
       "      <td>0</td>\n",
       "      <td>1</td>\n",
       "      <td>0</td>\n",
       "      <td>0</td>\n",
       "    </tr>\n",
       "    <tr>\n",
       "      <th>3</th>\n",
       "      <td>4</td>\n",
       "      <td>2</td>\n",
       "      <td>0</td>\n",
       "      <td>0</td>\n",
       "      <td>0</td>\n",
       "      <td>0</td>\n",
       "      <td>0</td>\n",
       "      <td>0</td>\n",
       "      <td>0</td>\n",
       "      <td>0</td>\n",
       "      <td>...</td>\n",
       "      <td>0</td>\n",
       "      <td>0</td>\n",
       "      <td>0</td>\n",
       "      <td>0</td>\n",
       "      <td>0</td>\n",
       "      <td>0</td>\n",
       "      <td>0</td>\n",
       "      <td>0</td>\n",
       "      <td>0</td>\n",
       "      <td>0</td>\n",
       "    </tr>\n",
       "    <tr>\n",
       "      <th>4</th>\n",
       "      <td>5</td>\n",
       "      <td>0</td>\n",
       "      <td>10</td>\n",
       "      <td>0</td>\n",
       "      <td>0</td>\n",
       "      <td>0</td>\n",
       "      <td>0</td>\n",
       "      <td>0</td>\n",
       "      <td>0</td>\n",
       "      <td>0</td>\n",
       "      <td>...</td>\n",
       "      <td>0</td>\n",
       "      <td>0</td>\n",
       "      <td>2</td>\n",
       "      <td>0</td>\n",
       "      <td>0</td>\n",
       "      <td>0</td>\n",
       "      <td>0</td>\n",
       "      <td>0</td>\n",
       "      <td>1</td>\n",
       "      <td>1</td>\n",
       "    </tr>\n",
       "    <tr>\n",
       "      <th>5</th>\n",
       "      <td>6</td>\n",
       "      <td>2</td>\n",
       "      <td>4</td>\n",
       "      <td>0</td>\n",
       "      <td>0</td>\n",
       "      <td>0</td>\n",
       "      <td>0</td>\n",
       "      <td>0</td>\n",
       "      <td>0</td>\n",
       "      <td>0</td>\n",
       "      <td>...</td>\n",
       "      <td>0</td>\n",
       "      <td>0</td>\n",
       "      <td>1</td>\n",
       "      <td>0</td>\n",
       "      <td>0</td>\n",
       "      <td>0</td>\n",
       "      <td>0</td>\n",
       "      <td>0</td>\n",
       "      <td>1</td>\n",
       "      <td>0</td>\n",
       "    </tr>\n",
       "    <tr>\n",
       "      <th>6</th>\n",
       "      <td>7</td>\n",
       "      <td>2</td>\n",
       "      <td>6</td>\n",
       "      <td>0</td>\n",
       "      <td>0</td>\n",
       "      <td>0</td>\n",
       "      <td>0</td>\n",
       "      <td>0</td>\n",
       "      <td>0</td>\n",
       "      <td>0</td>\n",
       "      <td>...</td>\n",
       "      <td>0</td>\n",
       "      <td>2</td>\n",
       "      <td>0</td>\n",
       "      <td>0</td>\n",
       "      <td>2</td>\n",
       "      <td>0</td>\n",
       "      <td>0</td>\n",
       "      <td>0</td>\n",
       "      <td>0</td>\n",
       "      <td>0</td>\n",
       "    </tr>\n",
       "    <tr>\n",
       "      <th>7</th>\n",
       "      <td>8</td>\n",
       "      <td>1</td>\n",
       "      <td>9</td>\n",
       "      <td>0</td>\n",
       "      <td>0</td>\n",
       "      <td>0</td>\n",
       "      <td>1</td>\n",
       "      <td>0</td>\n",
       "      <td>0</td>\n",
       "      <td>0</td>\n",
       "      <td>...</td>\n",
       "      <td>0</td>\n",
       "      <td>0</td>\n",
       "      <td>0</td>\n",
       "      <td>0</td>\n",
       "      <td>0</td>\n",
       "      <td>0</td>\n",
       "      <td>0</td>\n",
       "      <td>0</td>\n",
       "      <td>0</td>\n",
       "      <td>0</td>\n",
       "    </tr>\n",
       "    <tr>\n",
       "      <th>8</th>\n",
       "      <td>9</td>\n",
       "      <td>2</td>\n",
       "      <td>1</td>\n",
       "      <td>0</td>\n",
       "      <td>0</td>\n",
       "      <td>0</td>\n",
       "      <td>0</td>\n",
       "      <td>0</td>\n",
       "      <td>0</td>\n",
       "      <td>0</td>\n",
       "      <td>...</td>\n",
       "      <td>0</td>\n",
       "      <td>0</td>\n",
       "      <td>0</td>\n",
       "      <td>0</td>\n",
       "      <td>0</td>\n",
       "      <td>0</td>\n",
       "      <td>0</td>\n",
       "      <td>0</td>\n",
       "      <td>0</td>\n",
       "      <td>0</td>\n",
       "    </tr>\n",
       "    <tr>\n",
       "      <th>9</th>\n",
       "      <td>10</td>\n",
       "      <td>2</td>\n",
       "      <td>0</td>\n",
       "      <td>0</td>\n",
       "      <td>0</td>\n",
       "      <td>0</td>\n",
       "      <td>0</td>\n",
       "      <td>0</td>\n",
       "      <td>0</td>\n",
       "      <td>0</td>\n",
       "      <td>...</td>\n",
       "      <td>0</td>\n",
       "      <td>0</td>\n",
       "      <td>1</td>\n",
       "      <td>0</td>\n",
       "      <td>0</td>\n",
       "      <td>0</td>\n",
       "      <td>0</td>\n",
       "      <td>0</td>\n",
       "      <td>0</td>\n",
       "      <td>0</td>\n",
       "    </tr>\n",
       "  </tbody>\n",
       "</table>\n",
       "<p>10 rows × 38 columns</p>\n",
       "</div>"
      ],
      "text/plain": [
       "   Cust_ID  Gender  Orders  Jordan  Gatorade  Samsung  Asus  Udis  \\\n",
       "0        1       1       7       0         0        0     0     0   \n",
       "1        2       2       0       0         1        0     0     0   \n",
       "2        3       1       7       0         1        0     0     0   \n",
       "3        4       2       0       0         0        0     0     0   \n",
       "4        5       0      10       0         0        0     0     0   \n",
       "5        6       2       4       0         0        0     0     0   \n",
       "6        7       2       6       0         0        0     0     0   \n",
       "7        8       1       9       0         0        0     1     0   \n",
       "8        9       2       1       0         0        0     0     0   \n",
       "9       10       2       0       0         0        0     0     0   \n",
       "\n",
       "   Mondelez International  Wrangler  ...  LG  Dior  Scabal  Tommy Hilfiger  \\\n",
       "0                       0         0  ...   0     0       0               0   \n",
       "1                       0         0  ...   0     1       0               0   \n",
       "2                       0         0  ...   0     0       0               0   \n",
       "3                       0         0  ...   0     0       0               0   \n",
       "4                       0         0  ...   0     0       2               0   \n",
       "5                       0         0  ...   0     0       1               0   \n",
       "6                       0         0  ...   0     2       0               0   \n",
       "7                       0         0  ...   0     0       0               0   \n",
       "8                       0         0  ...   0     0       0               0   \n",
       "9                       0         0  ...   0     0       1               0   \n",
       "\n",
       "   Hollister  Forever 21  Colavita  Microsoft  Jiffy mix  Kraft  \n",
       "0          0           0         0          0          0      0  \n",
       "1          0           0         0          0          0      0  \n",
       "2          0           0         0          1          0      0  \n",
       "3          0           0         0          0          0      0  \n",
       "4          0           0         0          0          1      1  \n",
       "5          0           0         0          0          1      0  \n",
       "6          2           0         0          0          0      0  \n",
       "7          0           0         0          0          0      0  \n",
       "8          0           0         0          0          0      0  \n",
       "9          0           0         0          0          0      0  \n",
       "\n",
       "[10 rows x 38 columns]"
      ]
     },
     "execution_count": 18,
     "metadata": {},
     "output_type": "execute_result"
    }
   ],
   "source": [
    "cust_data.head(10)"
   ]
  }
 ],
 "metadata": {
  "kernelspec": {
   "display_name": "Python 3",
   "language": "python",
   "name": "python3"
  },
  "language_info": {
   "codemirror_mode": {
    "name": "ipython",
    "version": 3
   },
   "file_extension": ".py",
   "mimetype": "text/x-python",
   "name": "python",
   "nbconvert_exporter": "python",
   "pygments_lexer": "ipython3",
   "version": "3.10.13"
  }
 },
 "nbformat": 4,
 "nbformat_minor": 2
}
